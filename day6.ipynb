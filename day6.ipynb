{
 "cells": [
  {
   "cell_type": "markdown",
   "metadata": {},
   "source": [
    "hey all it's \n",
    "\n",
    "# day 6\n",
    "\n",
    "welcome welcome everyone.\n",
    "\n",
    "I wrote out about half a post before I deleted it due to a collective bad attitude vibe I was catching. From myself.\n",
    "\n",
    "It happens. \n",
    "\n",
    "What's up guardians of the hash tag. It's ya boi. \n",
    "\n",
    "Sometimes we can be pretty immature and have bad attitudes. You wake up and you don't want to make a decision about anything or you just downright feel like [this](https://www.youtube.com/watch?v=ZpUYjpKg9KY). \n",
    "\n",
    "Today I tried rewriting something I initially wrote for a client but the project went in a downward spiral after I psyched myself out. Things have changed though and now web pages look different and it sure was nice to have some automated workflows, you know what I'm saying????\n",
    "\n",
    "So I tried a little last night, and a little today and it didn't really work out and this is the constant battle I fight.\n",
    "\n",
    "Do I do this thing manually, with this brilliant piece of mechanical wonderdom, the ThinkPad ( _T430 - I knew you were wondering what model_ \\)"
   ]
  },
  {
   "cell_type": "markdown",
   "metadata": {},
   "source": [
    "## OR DO I LET THE HORSES FROM THIS LENOVO BARN FREE TO REIGN ON THE FAIR FIELDS OF THE AUTOMATION NATION"
   ]
  },
  {
   "cell_type": "markdown",
   "metadata": {},
   "source": [
    "ahem. What I am saying is, how many times do I approach this task like this before I decide to set aside four hours to write a script for it. Without knowing that I actually mean for but initially think five minutes."
   ]
  },
  {
   "cell_type": "markdown",
   "metadata": {},
   "source": [
    "Well. I couldn't quite figure out the script today. It was a lot more work than I remember and I am pretty impressed by that. I was having quite a damn good week too so I thought I would really be able to mash it together over the weekend but nope. Cool to find out about yourself you know? \n",
    "\n",
    "I wasn't really writing it for my client. It was more for my own workflow. Also more free time for me is better for everyone. Seriously. I want to be paid for doing what I do here, just more complex awesome things. Researching things so deeply it's like I hand in a dissertation once a week for my job. "
   ]
  },
  {
   "cell_type": "markdown",
   "metadata": {},
   "source": [
    "I love programming because of it's complete absurdity abstractness. You can start at the very smallest thing and make it bigger so easily. And then make more on top of it. \n",
    "\n",
    "It actually took me awhile to understand that I wasn't really a beginner anymore but that I actually knew how to program. When I learn something, I'm not sure that I've learned it especially if the information came from a single dimension from which I could learn about that subject. \n",
    "\n",
    "Most of what you're actually learning how to do when you're programming is use a bunch of tools that you don't really know how to use and it all happens from the very start of introducing yourself to programming and you didn't even know it. \n",
    "\n",
    "The other thing I couldn't really wrap my head around was the whole \"find something you love and use programming on it\" or something. People are always like..\n",
    "\n",
    "\"hey\"\n",
    "\"uh yeah?\"\n",
    "\"hey you\"\n",
    "\"me?\"\n",
    "\"yeah you\"\n",
    "\"what?\"\n",
    "\"how do you learn programming?\"\n",
    "\"oh here, I have a map\"\n",
    "\n",
    "Yeah. That's how you learn anything right? You just have a map.\n",
    "\n",
    "I first started programming because I wanted to be able to request information and have returned a bouquet of resources, artifacts, whatever, all at my finger tips. Is that a thing? Yeah it totally is a thing but there's no way I could build that day one of being a newbie. "
   ]
  },
  {
   "cell_type": "code",
   "execution_count": 1,
   "metadata": {},
   "outputs": [
    {
     "ename": "SyntaxError",
     "evalue": "invalid syntax (<ipython-input-1-bfbc4e905957>, line 1)",
     "output_type": "error",
     "traceback": [
      "\u001b[0;36m  File \u001b[0;32m\"<ipython-input-1-bfbc4e905957>\"\u001b[0;36m, line \u001b[0;32m1\u001b[0m\n\u001b[0;31m    But I did learn how to scrape.\u001b[0m\n\u001b[0m        ^\u001b[0m\n\u001b[0;31mSyntaxError\u001b[0m\u001b[0;31m:\u001b[0m invalid syntax\n"
     ]
    }
   ],
   "source": [
    "But I did learn how to scrape. "
   ]
  },
  {
   "cell_type": "markdown",
   "metadata": {},
   "source": [
    "but ... me learned how to scrape? wait..oh no, I can't start a sentence out with \"But\". It's inappropriately placed, butts come at the end."
   ]
  },
  {
   "cell_type": "markdown",
   "metadata": {},
   "source": [
    "Anyway. I didn't know what to build because I literally couldn't imagine how it might be built. So I never really knew what to build. I just wanted to learn what was useful. I did all sorts of things with Python but nothing I was super interested in. I knew the basics of web mining but I didn't really know what to search for. So I just assumed that I was still a noob because if I had no inspiration to build anything then I must not know anything at all.\n",
    "\n",
    "What I had were the tools. I just didn't know how to use them.\n",
    "\n",
    "So I just copied tutorials. Over and over and over. I would buy learning resources whenever I had extra cash (still do sometimes but have slowed that roll considerably by getting +3 library cards) and then I would fall off a resource onto something I thought was better but then eventually come back to the original resource because it one I've always wanted to read. \n",
    "\n",
    "### But that's not how learning programming works.\n",
    "\n",
    "The first program that I ever \"wrote\" on my \"own\" I used about 15+ different tutorials to write. I am building things now that I just watch Youtube video tutorials and then tweak a few things here and there or completely augment the thing to work differently somehow, lost in a line of other mangled lines of code.\n",
    "\n",
    "My only interest was ever to learn how to code just to really enhance my own workflow, to get more out of what I do with every minute of my work. And to cut out the waste in my workflow because I honestly love working and producing things and I want to do it efficiently and productively. Sometimes I think work is my art and with coding, it's shaping how I personally think about getting things done."
   ]
  },
  {
   "cell_type": "markdown",
   "metadata": {},
   "source": [
    "I can't remember why I started writing this post. I think to avoid (more) coding for the night but it is unavoidable at this point. I found a dope [youtube api tutorial](https://www.youtube.com/watch?v=wq570TYG-eg) I'm going to do. I love this guy's tutorials, I've only just started watching them but definitely pretty good. "
   ]
  },
  {
   "cell_type": "code",
   "execution_count": 2,
   "metadata": {},
   "outputs": [
    {
     "name": "stdout",
     "output_type": "stream",
     "text": [
      "The Zen of Python, by Tim Peters\n",
      "\n",
      "Beautiful is better than ugly.\n",
      "Explicit is better than implicit.\n",
      "Simple is better than complex.\n",
      "Complex is better than complicated.\n",
      "Flat is better than nested.\n",
      "Sparse is better than dense.\n",
      "Readability counts.\n",
      "Special cases aren't special enough to break the rules.\n",
      "Although practicality beats purity.\n",
      "Errors should never pass silently.\n",
      "Unless explicitly silenced.\n",
      "In the face of ambiguity, refuse the temptation to guess.\n",
      "There should be one-- and preferably only one --obvious way to do it.\n",
      "Although that way may not be obvious at first unless you're Dutch.\n",
      "Now is better than never.\n",
      "Although never is often better than *right* now.\n",
      "If the implementation is hard to explain, it's a bad idea.\n",
      "If the implementation is easy to explain, it may be a good idea.\n",
      "Namespaces are one honking great idea -- let's do more of those!\n"
     ]
    }
   ],
   "source": [
    "# let me end with it with this\n",
    "\n",
    "import this"
   ]
  }
 ],
 "metadata": {
  "kernelspec": {
   "display_name": "Python 3",
   "language": "python",
   "name": "python3"
  },
  "language_info": {
   "codemirror_mode": {
    "name": "ipython",
    "version": 3
   },
   "file_extension": ".py",
   "mimetype": "text/x-python",
   "name": "python",
   "nbconvert_exporter": "python",
   "pygments_lexer": "ipython3",
   "version": "3.7.3"
  }
 },
 "nbformat": 4,
 "nbformat_minor": 2
}
