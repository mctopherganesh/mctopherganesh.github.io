{
 "cells": [
  {
   "cell_type": "markdown",
   "metadata": {},
   "source": [
    "# Attention to Detail of Hacker News Community Engagement\n",
    "\n",
    "    \n",
    "  This analysis is in short, an overview of the community engagement on Hacker News, a tech oriented site in which users can post articles and the community is able to upvote and/or comment on the article. The main focus that this analysis will answer are the questions below.\n",
    "\n",
    "    1) Does the post type of `Ask HN` or `Show HN` get more comments on average?\n",
    "    2) Do posts created at certain times garner more attention?\n",
    "    \n",
    "The dataset is comprised of an identification number for the post, a post title, in most cases a url, number of points (earned by upvotes minus downvotes), number of comments, author(user name) and a post creation time and date. There are approximately 20,000 rows.\n",
    "\n",
    "Skip to the bottom for video analysis link."
   ]
  },
  {
   "cell_type": "code",
   "execution_count": 1,
   "metadata": {},
   "outputs": [
    {
     "data": {
      "text/html": [
       "<div>\n",
       "<style scoped>\n",
       "    .dataframe tbody tr th:only-of-type {\n",
       "        vertical-align: middle;\n",
       "    }\n",
       "\n",
       "    .dataframe tbody tr th {\n",
       "        vertical-align: top;\n",
       "    }\n",
       "\n",
       "    .dataframe thead th {\n",
       "        text-align: right;\n",
       "    }\n",
       "</style>\n",
       "<table border=\"1\" class=\"dataframe\">\n",
       "  <thead>\n",
       "    <tr style=\"text-align: right;\">\n",
       "      <th></th>\n",
       "      <th>id</th>\n",
       "      <th>title</th>\n",
       "      <th>url</th>\n",
       "      <th>num_points</th>\n",
       "      <th>num_comments</th>\n",
       "      <th>author</th>\n",
       "      <th>created_at</th>\n",
       "    </tr>\n",
       "  </thead>\n",
       "  <tbody>\n",
       "    <tr>\n",
       "      <th>0</th>\n",
       "      <td>12224879</td>\n",
       "      <td>Interactive Dynamic Video</td>\n",
       "      <td>http://www.interactivedynamicvideo.com/</td>\n",
       "      <td>386</td>\n",
       "      <td>52</td>\n",
       "      <td>ne0phyte</td>\n",
       "      <td>8/4/2016 11:52</td>\n",
       "    </tr>\n",
       "    <tr>\n",
       "      <th>1</th>\n",
       "      <td>10975351</td>\n",
       "      <td>How to Use Open Source and Shut the Fuck Up at...</td>\n",
       "      <td>http://hueniverse.com/2016/01/26/how-to-use-op...</td>\n",
       "      <td>39</td>\n",
       "      <td>10</td>\n",
       "      <td>josep2</td>\n",
       "      <td>1/26/2016 19:30</td>\n",
       "    </tr>\n",
       "    <tr>\n",
       "      <th>2</th>\n",
       "      <td>11964716</td>\n",
       "      <td>Florida DJs May Face Felony for April Fools' W...</td>\n",
       "      <td>http://www.thewire.com/entertainment/2013/04/f...</td>\n",
       "      <td>2</td>\n",
       "      <td>1</td>\n",
       "      <td>vezycash</td>\n",
       "      <td>6/23/2016 22:20</td>\n",
       "    </tr>\n",
       "    <tr>\n",
       "      <th>3</th>\n",
       "      <td>11919867</td>\n",
       "      <td>Technology ventures: From Idea to Enterprise</td>\n",
       "      <td>https://www.amazon.com/Technology-Ventures-Ent...</td>\n",
       "      <td>3</td>\n",
       "      <td>1</td>\n",
       "      <td>hswarna</td>\n",
       "      <td>6/17/2016 0:01</td>\n",
       "    </tr>\n",
       "    <tr>\n",
       "      <th>4</th>\n",
       "      <td>10301696</td>\n",
       "      <td>Note by Note: The Making of Steinway L1037 (2007)</td>\n",
       "      <td>http://www.nytimes.com/2007/11/07/movies/07ste...</td>\n",
       "      <td>8</td>\n",
       "      <td>2</td>\n",
       "      <td>walterbell</td>\n",
       "      <td>9/30/2015 4:12</td>\n",
       "    </tr>\n",
       "  </tbody>\n",
       "</table>\n",
       "</div>"
      ],
      "text/plain": [
       "         id                                              title  \\\n",
       "0  12224879                          Interactive Dynamic Video   \n",
       "1  10975351  How to Use Open Source and Shut the Fuck Up at...   \n",
       "2  11964716  Florida DJs May Face Felony for April Fools' W...   \n",
       "3  11919867       Technology ventures: From Idea to Enterprise   \n",
       "4  10301696  Note by Note: The Making of Steinway L1037 (2007)   \n",
       "\n",
       "                                                 url  num_points  \\\n",
       "0            http://www.interactivedynamicvideo.com/         386   \n",
       "1  http://hueniverse.com/2016/01/26/how-to-use-op...          39   \n",
       "2  http://www.thewire.com/entertainment/2013/04/f...           2   \n",
       "3  https://www.amazon.com/Technology-Ventures-Ent...           3   \n",
       "4  http://www.nytimes.com/2007/11/07/movies/07ste...           8   \n",
       "\n",
       "   num_comments      author       created_at  \n",
       "0            52    ne0phyte   8/4/2016 11:52  \n",
       "1            10      josep2  1/26/2016 19:30  \n",
       "2             1    vezycash  6/23/2016 22:20  \n",
       "3             1     hswarna   6/17/2016 0:01  \n",
       "4             2  walterbell   9/30/2015 4:12  "
      ]
     },
     "execution_count": 1,
     "metadata": {},
     "output_type": "execute_result"
    }
   ],
   "source": [
    "import pandas as pd\n",
    "hn = pd.read_csv('hacker_news.csv')\n",
    "hn.head()\n",
    "\n",
    "# imports, csv loads"
   ]
  },
  {
   "cell_type": "code",
   "execution_count": 2,
   "metadata": {},
   "outputs": [
    {
     "data": {
      "text/plain": [
       "20100"
      ]
     },
     "execution_count": 2,
     "metadata": {},
     "output_type": "execute_result"
    }
   ],
   "source": [
    "len(hn) # okay it's more than 20,000 rows but isn't that what approximately means? Right? RIGHT?"
   ]
  },
  {
   "cell_type": "code",
   "execution_count": 3,
   "metadata": {},
   "outputs": [],
   "source": [
    "hn['title'] = hn['title'].str.lower()"
   ]
  },
  {
   "cell_type": "markdown",
   "metadata": {},
   "source": [
    "### Our first dive into the data is to find whether there are more comments on 'ask hn' posts or 'show hn'. \n",
    "\n",
    "Above, I normalized the case of the items in the title column just in case the 'ask hn' or the 'show hn' was capitilized abnormally."
   ]
  },
  {
   "cell_type": "code",
   "execution_count": 4,
   "metadata": {},
   "outputs": [
    {
     "data": {
      "text/html": [
       "<div>\n",
       "<style scoped>\n",
       "    .dataframe tbody tr th:only-of-type {\n",
       "        vertical-align: middle;\n",
       "    }\n",
       "\n",
       "    .dataframe tbody tr th {\n",
       "        vertical-align: top;\n",
       "    }\n",
       "\n",
       "    .dataframe thead th {\n",
       "        text-align: right;\n",
       "    }\n",
       "</style>\n",
       "<table border=\"1\" class=\"dataframe\">\n",
       "  <thead>\n",
       "    <tr style=\"text-align: right;\">\n",
       "      <th></th>\n",
       "      <th>id</th>\n",
       "      <th>title</th>\n",
       "      <th>url</th>\n",
       "      <th>num_points</th>\n",
       "      <th>num_comments</th>\n",
       "      <th>author</th>\n",
       "      <th>created_at</th>\n",
       "    </tr>\n",
       "  </thead>\n",
       "  <tbody>\n",
       "    <tr>\n",
       "      <th>0</th>\n",
       "      <td>12224879</td>\n",
       "      <td>interactive dynamic video</td>\n",
       "      <td>http://www.interactivedynamicvideo.com/</td>\n",
       "      <td>386</td>\n",
       "      <td>52</td>\n",
       "      <td>ne0phyte</td>\n",
       "      <td>8/4/2016 11:52</td>\n",
       "    </tr>\n",
       "    <tr>\n",
       "      <th>1</th>\n",
       "      <td>10975351</td>\n",
       "      <td>how to use open source and shut the fuck up at...</td>\n",
       "      <td>http://hueniverse.com/2016/01/26/how-to-use-op...</td>\n",
       "      <td>39</td>\n",
       "      <td>10</td>\n",
       "      <td>josep2</td>\n",
       "      <td>1/26/2016 19:30</td>\n",
       "    </tr>\n",
       "    <tr>\n",
       "      <th>2</th>\n",
       "      <td>11964716</td>\n",
       "      <td>florida djs may face felony for april fools' w...</td>\n",
       "      <td>http://www.thewire.com/entertainment/2013/04/f...</td>\n",
       "      <td>2</td>\n",
       "      <td>1</td>\n",
       "      <td>vezycash</td>\n",
       "      <td>6/23/2016 22:20</td>\n",
       "    </tr>\n",
       "    <tr>\n",
       "      <th>3</th>\n",
       "      <td>11919867</td>\n",
       "      <td>technology ventures: from idea to enterprise</td>\n",
       "      <td>https://www.amazon.com/Technology-Ventures-Ent...</td>\n",
       "      <td>3</td>\n",
       "      <td>1</td>\n",
       "      <td>hswarna</td>\n",
       "      <td>6/17/2016 0:01</td>\n",
       "    </tr>\n",
       "    <tr>\n",
       "      <th>4</th>\n",
       "      <td>10301696</td>\n",
       "      <td>note by note: the making of steinway l1037 (2007)</td>\n",
       "      <td>http://www.nytimes.com/2007/11/07/movies/07ste...</td>\n",
       "      <td>8</td>\n",
       "      <td>2</td>\n",
       "      <td>walterbell</td>\n",
       "      <td>9/30/2015 4:12</td>\n",
       "    </tr>\n",
       "  </tbody>\n",
       "</table>\n",
       "</div>"
      ],
      "text/plain": [
       "         id                                              title  \\\n",
       "0  12224879                          interactive dynamic video   \n",
       "1  10975351  how to use open source and shut the fuck up at...   \n",
       "2  11964716  florida djs may face felony for april fools' w...   \n",
       "3  11919867       technology ventures: from idea to enterprise   \n",
       "4  10301696  note by note: the making of steinway l1037 (2007)   \n",
       "\n",
       "                                                 url  num_points  \\\n",
       "0            http://www.interactivedynamicvideo.com/         386   \n",
       "1  http://hueniverse.com/2016/01/26/how-to-use-op...          39   \n",
       "2  http://www.thewire.com/entertainment/2013/04/f...           2   \n",
       "3  https://www.amazon.com/Technology-Ventures-Ent...           3   \n",
       "4  http://www.nytimes.com/2007/11/07/movies/07ste...           8   \n",
       "\n",
       "   num_comments      author       created_at  \n",
       "0            52    ne0phyte   8/4/2016 11:52  \n",
       "1            10      josep2  1/26/2016 19:30  \n",
       "2             1    vezycash  6/23/2016 22:20  \n",
       "3             1     hswarna   6/17/2016 0:01  \n",
       "4             2  walterbell   9/30/2015 4:12  "
      ]
     },
     "execution_count": 4,
     "metadata": {},
     "output_type": "execute_result"
    }
   ],
   "source": [
    "hn.head() # checking to make sure change worked."
   ]
  },
  {
   "cell_type": "code",
   "execution_count": 5,
   "metadata": {},
   "outputs": [],
   "source": [
    "ask_bool_map = hn[hn['title'].str.startswith('ask hn')]\n",
    "ask_hn_rows = ask_bool_map[['id','title','url','num_points','num_comments','author','created_at']]\n",
    "\n",
    "show_bool_map = hn[hn['title'].str.startswith('show hn')]\n",
    "show_hn_rows = show_bool_map[['id','title','url','num_points','num_comments','author','created_at']]"
   ]
  },
  {
   "cell_type": "markdown",
   "metadata": {},
   "source": [
    "Here is where I'm separating the posts classified as either 'ask hn' or 'show hn'."
   ]
  },
  {
   "cell_type": "code",
   "execution_count": 6,
   "metadata": {},
   "outputs": [
    {
     "data": {
      "text/plain": [
       "(1162, 1744)"
      ]
     },
     "execution_count": 6,
     "metadata": {},
     "output_type": "execute_result"
    }
   ],
   "source": [
    "len(show_hn_rows), len(ask_hn_rows) # length of the new show and ask dataframes"
   ]
  },
  {
   "cell_type": "code",
   "execution_count": 7,
   "metadata": {},
   "outputs": [],
   "source": [
    "ask_list = []\n",
    "show_list = []\n",
    "no_prefix_list = []\n",
    "for i in hn['title']:\n",
    "    if i.startswith('ask hn'):\n",
    "        ask_list.append(i)\n",
    "    elif i.startswith('show hn'):\n",
    "        show_list.append(i)\n",
    "    else:\n",
    "        no_prefix_list.append(i)"
   ]
  },
  {
   "cell_type": "code",
   "execution_count": 8,
   "metadata": {},
   "outputs": [
    {
     "data": {
      "text/plain": [
       "[1744, 1162, 17194]"
      ]
     },
     "execution_count": 8,
     "metadata": {},
     "output_type": "execute_result"
    }
   ],
   "source": [
    "[len(ask_list),len(show_list), len(no_prefix_list)] # proving to myself that it all adds up to the same total amount\n",
    "# of rows"
   ]
  },
  {
   "cell_type": "code",
   "execution_count": 9,
   "metadata": {},
   "outputs": [
    {
     "data": {
      "text/plain": [
       "498526"
      ]
     },
     "execution_count": 9,
     "metadata": {},
     "output_type": "execute_result"
    }
   ],
   "source": [
    "hn['num_comments'].sum() # finding sums for proof later"
   ]
  },
  {
   "cell_type": "code",
   "execution_count": 10,
   "metadata": {},
   "outputs": [],
   "source": [
    "from matplotlib import pyplot as plt\n",
    "%matplotlib inline\n",
    "\n",
    "# dataviz time"
   ]
  },
  {
   "cell_type": "code",
   "execution_count": 11,
   "metadata": {},
   "outputs": [],
   "source": [
    "comment_sums = [show_hn_rows['num_comments'].sum(),ask_hn_rows['num_comments'].sum()]\n",
    "x_labels = ['show hn comment total', 'ask hn comment total']"
   ]
  },
  {
   "cell_type": "code",
   "execution_count": 12,
   "metadata": {},
   "outputs": [
    {
     "name": "stdout",
     "output_type": "stream",
     "text": [
      "The show hn comment total is 11988\n",
      "The ask hn comment total is 24483\n"
     ]
    }
   ],
   "source": [
    "print('The ' + str(x_labels[0]) + ' is ' + str(comment_sums[0]))\n",
    "print('The ' + str(x_labels[1]) + ' is ' + str(comment_sums[1]))"
   ]
  },
  {
   "cell_type": "code",
   "execution_count": 13,
   "metadata": {},
   "outputs": [
    {
     "data": {
      "text/plain": [
       "<BarContainer object of 2 artists>"
      ]
     },
     "execution_count": 13,
     "metadata": {},
     "output_type": "execute_result"
    },
    {
     "data": {
      "image/png": "[encoded data removed]",
      "text/plain": [
       "<Figure size 432x288 with 1 Axes>"
      ]
     },
     "metadata": {
      "needs_background": "light"
     },
     "output_type": "display_data"
    }
   ],
   "source": [
    "plt.bar(x_labels,comment_sums)"
   ]
  },
  {
   "cell_type": "markdown",
   "metadata": {},
   "source": [
    "Here' it's clear that on a post categorized as 'ask' versus 'show' that there are more comments. \n",
    "\n",
    "My guess to this would be that there are more people trying to answer the user's 'ask' question on these posts.\n",
    "\n",
    "However, since we do not have the complete set of data on what the comments were, I guess we'll never know......"
   ]
  },
  {
   "cell_type": "markdown",
   "metadata": {},
   "source": [
    "![twilightzone](./twizone.gif)"
   ]
  },
  {
   "cell_type": "markdown",
   "metadata": {},
   "source": [
    "Below the analysis continues to find whether posts created at certain times garner more or less attention."
   ]
  },
  {
   "cell_type": "code",
   "execution_count": 14,
   "metadata": {},
   "outputs": [
    {
     "data": {
      "text/plain": [
       "0     8/4/2016 11:52\n",
       "1    1/26/2016 19:30\n",
       "2    6/23/2016 22:20\n",
       "3     6/17/2016 0:01\n",
       "4     9/30/2015 4:12\n",
       "Name: created_at, dtype: object"
      ]
     },
     "execution_count": 14,
     "metadata": {},
     "output_type": "execute_result"
    }
   ],
   "source": [
    "hn['created_at'].head() # checking the format of strings in the created_at column"
   ]
  },
  {
   "cell_type": "markdown",
   "metadata": {},
   "source": [
    "Instead of using the datetime module, I found my own way to classify which posts garnered more tracked attention."
   ]
  },
  {
   "cell_type": "code",
   "execution_count": 19,
   "metadata": {},
   "outputs": [],
   "source": [
    "time_and_points = pd.DataFrame([hn['created_at'],hn['num_points']])\n",
    "time_and_comments = pd.DataFrame([hn['created_at'],hn['num_comments']])"
   ]
  },
  {
   "cell_type": "code",
   "execution_count": 20,
   "metadata": {},
   "outputs": [
    {
     "data": {
      "text/html": [
       "<div>\n",
       "<style scoped>\n",
       "    .dataframe tbody tr th:only-of-type {\n",
       "        vertical-align: middle;\n",
       "    }\n",
       "\n",
       "    .dataframe tbody tr th {\n",
       "        vertical-align: top;\n",
       "    }\n",
       "\n",
       "    .dataframe thead th {\n",
       "        text-align: right;\n",
       "    }\n",
       "</style>\n",
       "<table border=\"1\" class=\"dataframe\">\n",
       "  <thead>\n",
       "    <tr style=\"text-align: right;\">\n",
       "      <th></th>\n",
       "      <th>0</th>\n",
       "      <th>1</th>\n",
       "      <th>2</th>\n",
       "      <th>3</th>\n",
       "      <th>4</th>\n",
       "      <th>5</th>\n",
       "      <th>6</th>\n",
       "      <th>7</th>\n",
       "      <th>8</th>\n",
       "      <th>9</th>\n",
       "      <th>...</th>\n",
       "      <th>20090</th>\n",
       "      <th>20091</th>\n",
       "      <th>20092</th>\n",
       "      <th>20093</th>\n",
       "      <th>20094</th>\n",
       "      <th>20095</th>\n",
       "      <th>20096</th>\n",
       "      <th>20097</th>\n",
       "      <th>20098</th>\n",
       "      <th>20099</th>\n",
       "    </tr>\n",
       "  </thead>\n",
       "  <tbody>\n",
       "    <tr>\n",
       "      <th>created_at</th>\n",
       "      <td>8/4/2016 11:52</td>\n",
       "      <td>1/26/2016 19:30</td>\n",
       "      <td>6/23/2016 22:20</td>\n",
       "      <td>6/17/2016 0:01</td>\n",
       "      <td>9/30/2015 4:12</td>\n",
       "      <td>10/31/2015 9:48</td>\n",
       "      <td>11/13/2015 0:45</td>\n",
       "      <td>8/16/2016 9:55</td>\n",
       "      <td>3/22/2016 16:18</td>\n",
       "      <td>10/13/2015 9:30</td>\n",
       "      <td>...</td>\n",
       "      <td>4/5/2016 19:31</td>\n",
       "      <td>11/18/2015 15:45</td>\n",
       "      <td>6/9/2016 16:49</td>\n",
       "      <td>10/17/2015 16:35</td>\n",
       "      <td>11/7/2015 11:27</td>\n",
       "      <td>8/29/2016 2:22</td>\n",
       "      <td>10/6/2015 14:57</td>\n",
       "      <td>1/2/2016 0:49</td>\n",
       "      <td>12/15/2015 19:32</td>\n",
       "      <td>5/12/2016 1:43</td>\n",
       "    </tr>\n",
       "    <tr>\n",
       "      <th>num_comments</th>\n",
       "      <td>52</td>\n",
       "      <td>10</td>\n",
       "      <td>1</td>\n",
       "      <td>1</td>\n",
       "      <td>2</td>\n",
       "      <td>22</td>\n",
       "      <td>4</td>\n",
       "      <td>6</td>\n",
       "      <td>7</td>\n",
       "      <td>10</td>\n",
       "      <td>...</td>\n",
       "      <td>2</td>\n",
       "      <td>41</td>\n",
       "      <td>1</td>\n",
       "      <td>70</td>\n",
       "      <td>2</td>\n",
       "      <td>6</td>\n",
       "      <td>1</td>\n",
       "      <td>132</td>\n",
       "      <td>222</td>\n",
       "      <td>58</td>\n",
       "    </tr>\n",
       "  </tbody>\n",
       "</table>\n",
       "<p>2 rows × 20100 columns</p>\n",
       "</div>"
      ],
      "text/plain": [
       "                       0                1                2      \\\n",
       "created_at    8/4/2016 11:52  1/26/2016 19:30  6/23/2016 22:20   \n",
       "num_comments              52               10                1   \n",
       "\n",
       "                       3               4                5      \\\n",
       "created_at    6/17/2016 0:01  9/30/2015 4:12  10/31/2015 9:48   \n",
       "num_comments               1               2               22   \n",
       "\n",
       "                        6               7                8      \\\n",
       "created_at    11/13/2015 0:45  8/16/2016 9:55  3/22/2016 16:18   \n",
       "num_comments                4               6                7   \n",
       "\n",
       "                        9      ...           20090             20091  \\\n",
       "created_at    10/13/2015 9:30  ...  4/5/2016 19:31  11/18/2015 15:45   \n",
       "num_comments               10  ...               2                41   \n",
       "\n",
       "                       20092             20093            20094  \\\n",
       "created_at    6/9/2016 16:49  10/17/2015 16:35  11/7/2015 11:27   \n",
       "num_comments               1                70                2   \n",
       "\n",
       "                       20095            20096          20097  \\\n",
       "created_at    8/29/2016 2:22  10/6/2015 14:57  1/2/2016 0:49   \n",
       "num_comments               6                1            132   \n",
       "\n",
       "                         20098           20099  \n",
       "created_at    12/15/2015 19:32  5/12/2016 1:43  \n",
       "num_comments               222              58  \n",
       "\n",
       "[2 rows x 20100 columns]"
      ]
     },
     "execution_count": 20,
     "metadata": {},
     "output_type": "execute_result"
    }
   ],
   "source": [
    "time_and_comments.head()"
   ]
  },
  {
   "cell_type": "code",
   "execution_count": 37,
   "metadata": {},
   "outputs": [],
   "source": [
    "def cut_date(col_item):\n",
    "    col_item = col_item.split(' ')\n",
    "    col_item = col_item[1]\n",
    "    col_item = col_item.split(':')\n",
    "    col_item = col_item[0]\n",
    "    return col_item\n",
    "\n",
    "# gleaning the hour from the date string"
   ]
  },
  {
   "cell_type": "code",
   "execution_count": 22,
   "metadata": {},
   "outputs": [
    {
     "data": {
      "text/plain": [
       "'19'"
      ]
     },
     "execution_count": 22,
     "metadata": {},
     "output_type": "execute_result"
    }
   ],
   "source": [
    "cut_date(time_and_comments[1][0])"
   ]
  },
  {
   "cell_type": "code",
   "execution_count": 23,
   "metadata": {},
   "outputs": [],
   "source": [
    "hour_bucket = {'0':0,\n",
    "               '1':0,\n",
    "               '2':0,\n",
    "               '3':0, \n",
    "               '4':0, \n",
    "               '5':0,\n",
    "               '6':0,\n",
    "               '7':0,\n",
    "               '8':0,\n",
    "               '9':0,\n",
    "               '10':0,\n",
    "               '11':0,\n",
    "               '12':0,\n",
    "               '13':0,\n",
    "               '14':0,\n",
    "               '15':0,\n",
    "               '16':0,\n",
    "               '17':0,\n",
    "               '18':0,\n",
    "               '19':0,\n",
    "               '20':0,\n",
    "               '21':0,\n",
    "               '22':0,\n",
    "               '23':0,\n",
    "              }"
   ]
  },
  {
   "cell_type": "code",
   "execution_count": 24,
   "metadata": {},
   "outputs": [],
   "source": [
    "for i in time_and_comments:\n",
    "    cdate = cut_date(time_and_comments[i][0])\n",
    "    hour_bucket[cdate] += 1"
   ]
  },
  {
   "cell_type": "code",
   "execution_count": 25,
   "metadata": {},
   "outputs": [],
   "source": [
    "a = {'4':0,'04':0}\n",
    "\n",
    "for i in time_and_comments:\n",
    "    if cut_date(time_and_comments[i][0]) == '4':\n",
    "        a['4'] += 1\n",
    "    elif cut_date(time_and_comments[i][0]) == '04':\n",
    "        a['04'] += 1"
   ]
  },
  {
   "cell_type": "code",
   "execution_count": 26,
   "metadata": {},
   "outputs": [
    {
     "data": {
      "text/plain": [
       "{'4': 527, '04': 0}"
      ]
     },
     "execution_count": 26,
     "metadata": {},
     "output_type": "execute_result"
    }
   ],
   "source": [
    "a"
   ]
  },
  {
   "cell_type": "code",
   "execution_count": 27,
   "metadata": {},
   "outputs": [],
   "source": [
    "b = {'i':0}\n",
    "for i in 'mississipi':\n",
    "    if i == 'i':\n",
    "        b['i'] += 1"
   ]
  },
  {
   "cell_type": "code",
   "execution_count": 38,
   "metadata": {},
   "outputs": [
    {
     "data": {
      "text/plain": [
       "{'i': 4}"
      ]
     },
     "execution_count": 38,
     "metadata": {},
     "output_type": "execute_result"
    }
   ],
   "source": [
    "b # sanity check..."
   ]
  },
  {
   "cell_type": "code",
   "execution_count": 29,
   "metadata": {},
   "outputs": [
    {
     "data": {
      "text/plain": [
       "{'0': 697,\n",
       " '1': 588,\n",
       " '2': 529,\n",
       " '3': 488,\n",
       " '4': 527,\n",
       " '5': 453,\n",
       " '6': 468,\n",
       " '7': 508,\n",
       " '8': 578,\n",
       " '9': 609,\n",
       " '10': 686,\n",
       " '11': 762,\n",
       " '12': 923,\n",
       " '13': 1102,\n",
       " '14': 1151,\n",
       " '15': 1234,\n",
       " '16': 1302,\n",
       " '17': 1362,\n",
       " '18': 1254,\n",
       " '19': 1145,\n",
       " '20': 1051,\n",
       " '21': 1030,\n",
       " '22': 875,\n",
       " '23': 778}"
      ]
     },
     "execution_count": 29,
     "metadata": {},
     "output_type": "execute_result"
    }
   ],
   "source": [
    "hour_bucket"
   ]
  },
  {
   "cell_type": "markdown",
   "metadata": {},
   "source": [
    "Above and below you'll see the amount of posts created at the separate hours of the day, 0 being midnight all the way up to 23 being 11pm. It looks like the most popular time was around 5 pm. "
   ]
  },
  {
   "cell_type": "code",
   "execution_count": 30,
   "metadata": {},
   "outputs": [
    {
     "data": {
      "text/plain": [
       "<BarContainer object of 24 artists>"
      ]
     },
     "execution_count": 30,
     "metadata": {},
     "output_type": "execute_result"
    },
    {
     "data": {
      "image/png": "[encoded data removed]",
      "text/plain": [
       "<Figure size 432x288 with 1 Axes>"
      ]
     },
     "metadata": {
      "needs_background": "light"
     },
     "output_type": "display_data"
    }
   ],
   "source": [
    "plt.bar(hour_bucket.keys(),hour_bucket.values())"
   ]
  },
  {
   "cell_type": "code",
   "execution_count": 31,
   "metadata": {},
   "outputs": [
    {
     "data": {
      "text/plain": [
       "{'0': 17478,\n",
       " '1': 12465,\n",
       " '2': 13762,\n",
       " '3': 11626,\n",
       " '4': 11537,\n",
       " '5': 10290,\n",
       " '6': 9253,\n",
       " '7': 12576,\n",
       " '8': 14062,\n",
       " '9': 15274,\n",
       " '10': 16818,\n",
       " '11': 20664,\n",
       " '12': 25351,\n",
       " '13': 30562,\n",
       " '14': 33545,\n",
       " '15': 35809,\n",
       " '16': 30857,\n",
       " '17': 34784,\n",
       " '18': 31587,\n",
       " '19': 27894,\n",
       " '20': 23414,\n",
       " '21': 22652,\n",
       " '22': 18684,\n",
       " '23': 17582}"
      ]
     },
     "execution_count": 31,
     "metadata": {},
     "output_type": "execute_result"
    }
   ],
   "source": [
    "comment_hour_bucket = {'0':0,\n",
    "               '1':0,\n",
    "               '2':0,\n",
    "               '3':0, \n",
    "               '4':0, \n",
    "               '5':0,\n",
    "               '6':0,\n",
    "               '7':0,\n",
    "               '8':0,\n",
    "               '9':0,\n",
    "               '10':0,\n",
    "               '11':0,\n",
    "               '12':0,\n",
    "               '13':0,\n",
    "               '14':0,\n",
    "               '15':0,\n",
    "               '16':0,\n",
    "               '17':0,\n",
    "               '18':0,\n",
    "               '19':0,\n",
    "               '20':0,\n",
    "               '21':0,\n",
    "               '22':0,\n",
    "               '23':0,\n",
    "              }\n",
    "\n",
    "\n",
    "for i in time_and_comments:\n",
    "    temp_v = cut_date(time_and_comments[i][0])\n",
    "    comment_hour_bucket[temp_v] += time_and_comments[i][1]\n",
    "    \n",
    "comment_hour_bucket"
   ]
  },
  {
   "cell_type": "code",
   "execution_count": 32,
   "metadata": {},
   "outputs": [
    {
     "data": {
      "text/plain": [
       "498526"
      ]
     },
     "execution_count": 32,
     "metadata": {},
     "output_type": "execute_result"
    }
   ],
   "source": [
    "hn['num_comments'].sum() # proof check"
   ]
  },
  {
   "cell_type": "code",
   "execution_count": 33,
   "metadata": {},
   "outputs": [
    {
     "data": {
      "text/plain": [
       "498526"
      ]
     },
     "execution_count": 33,
     "metadata": {},
     "output_type": "execute_result"
    }
   ],
   "source": [
    "c = 0\n",
    "for i in comment_hour_bucket:\n",
    "    c += comment_hour_bucket[i]\n",
    "    \n",
    "c # proof against the proof above"
   ]
  },
  {
   "cell_type": "markdown",
   "metadata": {},
   "source": [
    "Below we can see that the most popular comment times orbit right around the most popular post creation times as well, and it generally follows the same pattern overall. This makes me think that commenters have notifications set up or are regular users some how."
   ]
  },
  {
   "cell_type": "code",
   "execution_count": 34,
   "metadata": {},
   "outputs": [
    {
     "data": {
      "text/plain": [
       "<BarContainer object of 24 artists>"
      ]
     },
     "execution_count": 34,
     "metadata": {},
     "output_type": "execute_result"
    },
    {
     "data": {
      "image/png": "[encoded data removed]",
      "text/plain": [
       "<Figure size 432x288 with 1 Axes>"
      ]
     },
     "metadata": {
      "needs_background": "light"
     },
     "output_type": "display_data"
    }
   ],
   "source": [
    "plt.bar(comment_hour_bucket.keys(),comment_hour_bucket.values())"
   ]
  },
  {
   "cell_type": "code",
   "execution_count": 35,
   "metadata": {},
   "outputs": [
    {
     "data": {
      "text/plain": [
       "<BarContainer object of 24 artists>"
      ]
     },
     "execution_count": 35,
     "metadata": {},
     "output_type": "execute_result"
    },
    {
     "data": {
      "image/png": "[encoded data removed]",
      "text/plain": [
       "<Figure size 432x288 with 1 Axes>"
      ]
     },
     "metadata": {
      "needs_background": "light"
     },
     "output_type": "display_data"
    }
   ],
   "source": [
    "points_hours_bucket = { \n",
    "               '0':0,\n",
    "               '1':0,\n",
    "               '2':0,\n",
    "               '3':0, \n",
    "               '4':0, \n",
    "               '5':0,\n",
    "               '6':0,\n",
    "               '7':0,\n",
    "               '8':0,\n",
    "               '9':0,\n",
    "               '10':0,\n",
    "               '11':0,\n",
    "               '12':0,\n",
    "               '13':0,\n",
    "               '14':0,\n",
    "               '15':0,\n",
    "               '16':0,\n",
    "               '17':0,\n",
    "               '18':0,\n",
    "               '19':0,\n",
    "               '20':0,\n",
    "               '21':0,\n",
    "               '22':0,\n",
    "               '23':0,\n",
    "    \n",
    "}\n",
    "\n",
    "for i in time_and_points:\n",
    "    temp = cut_date(time_and_points[i][0])\n",
    "    points_hours_bucket[temp] += time_and_points[i][1]\n",
    "    \n",
    "plt.bar(points_hours_bucket.keys(),points_hours_bucket.values())"
   ]
  },
  {
   "cell_type": "markdown",
   "metadata": {},
   "source": [
    "Above we can see that again, the pattern of upvotes on posts follows the time posts are created **and** the number of comments on posts. \n",
    "\n",
    "Below, to paint the results together, I have combined them all on a single graph to show how similar the patterns are. The lowest number (barely seen, in green) is the number of posts created in those specific hour buckets. The orange is the number of comments made in those hour buckets, and the blue is the number of points (upvotes minus downvotes) on those posts **in** those hour buckets. The pattern is quite consistent all the way through and we can see that across the board, posts are generally posted around late afternoon and early evening with all the activity of commenting and voting happening around those times as well."
   ]
  },
  {
   "cell_type": "code",
   "execution_count": 36,
   "metadata": {},
   "outputs": [
    {
     "data": {
      "image/png": "[encoded data removed]",
      "text/plain": [
       "<Figure size 432x288 with 1 Axes>"
      ]
     },
     "metadata": {
      "needs_background": "light"
     },
     "output_type": "display_data"
    }
   ],
   "source": [
    "points = list(points_hours_bucket.values())\n",
    "comments = list(comment_hour_bucket.values())\n",
    "posts_created = list(hour_bucket.values())\n",
    "\n",
    "position_on_x = list(comment_hour_bucket.keys())\n",
    "hour_groups = list(comment_hour_bucket.keys())\n",
    "\n",
    "bar_widt = 1\n",
    "\n",
    "plt.bar(position_on_x, points)\n",
    "plt.bar(position_on_x, comments)\n",
    "plt.bar(position_on_x, posts_created)\n",
    "\n",
    "plt.xticks(position_on_x, hour_groups)\n",
    "plt.xlabel('hour of the day')\n",
    "\n",
    "plt.show()"
   ]
  },
  {
   "cell_type": "markdown",
   "metadata": {},
   "source": [
    "[Link to video analysis](https://www.loom.com/share/c3c3f8383bc74d8abf753e599a5ef253)"
   ]
  }
 ],
 "metadata": {
  "kernelspec": {
   "display_name": "Python 3",
   "language": "python",
   "name": "python3"
  },
  "language_info": {
   "codemirror_mode": {
    "name": "ipython",
    "version": 3
   },
   "file_extension": ".py",
   "mimetype": "text/x-python",
   "name": "python",
   "nbconvert_exporter": "python",
   "pygments_lexer": "ipython3",
   "version": "3.7.3"
  }
 },
 "nbformat": 4,
 "nbformat_minor": 2
}
