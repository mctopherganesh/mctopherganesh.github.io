{
 "cells": [
  {
   "cell_type": "code",
   "execution_count": 7,
   "metadata": {},
   "outputs": [],
   "source": [
    "import scrapy"
   ]
  },
  {
   "cell_type": "markdown",
   "metadata": {},
   "source": [
    "# lego day 10\n",
    "\n",
    "double digits. (breathes in long breath of air) feels good to be here.\n",
    "\n",
    "check me out. "
   ]
  },
  {
   "cell_type": "markdown",
   "metadata": {},
   "source": [
    "![butimnotarapper gif](./3c6.gif)"
   ]
  },
  {
   "cell_type": "markdown",
   "metadata": {},
   "source": [
    "That literally took me all morning to do. I just got done doing a bunch of warm up tutorials on using Scrapy again. I'm not sure where Scrapy is in the Scraper world as a viable tool but it sure is fun.\n",
    "\n",
    "Alright.\n",
    "\n",
    "## here's the goal if I didn't make it clear last night\n",
    "\n",
    "See this page. The page you're looking at? \n",
    "\n",
    "I want to change the color of it. but I want to be able to run a command at the command line to do it, right after I run jupyter nbconvert this_file.ipynb. I want it to look like the rest of my site.\n",
    "\n",
    "(have you literally not seen it? go delete part of the url or whatever, I dunno. It's all interactive yeah?) \n",
    "\n",
    "I have pretty colors for the other parts of my site at the cost of very meticulously finding the tags in this extenison I use for my browser. \n",
    "\n",
    "(huge breath).\n",
    "\n",
    "<!--also I keep thinking about Vancouver a lot becuase I keep taking quizzes for working in Vancouver mehh-->\n",
    "\n",
    "Here's something I built to learn Scrapy awhile ago. "
   ]
  },
  {
   "cell_type": "code",
   "execution_count": 8,
   "metadata": {},
   "outputs": [],
   "source": [
    "import scrapy\n",
    "\n",
    "class BrickSetSpider(scrapy.Spider):\n",
    "    name = \"brickset_spider\"\n",
    "    start_urls = ['http://brickset.com/sets/year-2016']\n",
    "\n",
    "    def parse(self, response):\n",
    "        SET_SELECTOR = '.set'\n",
    "        for brickset in response.css(SET_SELECTOR):\n",
    "\n",
    "            NAME_SELECTOR = 'h1 a ::text'\n",
    "            PIECES_SELECTOR = './/dl[dt/text() = \"Pieces\"]/dd/a/text()'\n",
    "            MINIFIGS_SELECTOR = '//dl[dt/text() = \"Minifigs\"]/dd[2]/a/text()'\n",
    "            IMAGE_SELECTOR = 'img ::attr(src)'\n",
    "            yield {\n",
    "                'name':brickset.css(NAME_SELECTOR).extract_first(),\n",
    "                'pieces': brickset.xpath(PIECES_SELECTOR).extract_first(),\n",
    "                'minifigs':brickset.xpath(MINIFIGS_SELECTOR).extract_first(),\n",
    "                'image': brickset.css(IMAGE_SELECTOR).extract_first(),\n",
    "            }\n",
    "\n",
    "        NEXT_PAGE_SELECTOR = '.next a ::attr(href)'\n",
    "        next_page = response.css(NEXT_PAGE_SELECTOR).extract_first()\n",
    "        if next_page:\n",
    "            yield scrapy.Request(\n",
    "                response.urljoin(next_page),\n",
    "                callback=self.parse)"
   ]
  },
  {
   "cell_type": "markdown",
   "metadata": {},
   "source": [
    "<!--I'm about to take you on a wild journey.-->"
   ]
  },
  {
   "cell_type": "markdown",
   "metadata": {},
   "source": [
    "that ol' script right there get's ya some names of lego sets. this was a demo put out by digitalocean a year or a few back. \n",
    "\n",
    "man when you dig into a tool but you come back to it and you're smarter and you know about programming \n",
    "\n",
    "it's a little different than first learning it.\n",
    "\n",
    "I just keep reading documentation. Who knows what the right way to code is but it's crazy what this thing can do. \n",
    "\n",
    "So I took that above scraper and tried to make my own scraper after I did the last #100DaysOfCode last year or something. Maybe a year ago. Who knows. \n",
    "\n",
    "That's a whole project I think I have a github repo on for here."
   ]
  }
 ],
 "metadata": {
  "kernelspec": {
   "display_name": "Python 3",
   "language": "python",
   "name": "python3"
  },
  "language_info": {
   "codemirror_mode": {
    "name": "ipython",
    "version": 3
   },
   "file_extension": ".py",
   "mimetype": "text/x-python",
   "name": "python",
   "nbconvert_exporter": "python",
   "pygments_lexer": "ipython3",
   "version": "3.7.3"
  }
 },
 "nbformat": 4,
 "nbformat_minor": 2
}
