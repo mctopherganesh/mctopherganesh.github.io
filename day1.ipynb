{
 "cells": [
  {
   "cell_type": "markdown",
   "metadata": {},
   "source": [
    "## day 1 ..\n",
    "\n",
    "2019-07-24 01:12:15.531117\n",
    "\n",
    "Day 1 I wanted to go wild and out. I've done 100 days before. It was like..hundreds of days ago.\n",
    "\n",
    "So yeah, I know I've got some skills. I wanted to mess around with some javascript and make a graph but I can't figure out the whole .min.js file in the folder thing so maybe someone can tell me who knows about those things. \n",
    "\n",
    "So I wanted to publicly start a project. I want to catalog a bunch of videos I want to watch on Youtube and see if I can't make a language corpus for the channel as well. What will these things help me with? Not much useful stuff but it's challenging and for now that's reason enough.\n",
    "\n",
    "The channel I've picked is Siraj Rival's channel. He's super energetic, fun to watch, and talks about awesome things so maybe I might be able to meta learn from doing this to his channel. Going to start with the smallest slice, getting the transcript."
   ]
  },
  {
   "cell_type": "code",
   "execution_count": 2,
   "metadata": {},
   "outputs": [],
   "source": [
    "from youtube_transcript_api import YouTubeTranscriptApi"
   ]
  },
  {
   "cell_type": "markdown",
   "metadata": {},
   "source": [
    "Install it if you don't have it. [I'm your friend](http://lmgtfy.com/?q=how+to+install+YouTube+Transcript+Api+python)\n",
    "\n",
    "Someone already made something dope and easy to use so just use that.\n",
    "\n",
    "all you need is the part of the video link that comes after the equal sign in address bar\n",
    "\n",
    "\n",
    "------------------------------------------------------------------------------\n",
    "\n",
    "here's the url: https://www.youtube.com/watch?v=9rDhY1P3YLA\n",
    "\n",
    "I could just cut it off and copy paste away but I am trying to build something I can use in the future."
   ]
  },
  {
   "cell_type": "code",
   "execution_count": 12,
   "metadata": {},
   "outputs": [
    {
     "data": {
      "text/plain": [
       "['https://www.youtube.com/watch?v', '9rDhY1P3YLA']"
      ]
     },
     "execution_count": 12,
     "metadata": {},
     "output_type": "execute_result"
    }
   ],
   "source": [
    "video_url = \"https://www.youtube.com/watch?v=9rDhY1P3YLA\"\n",
    "video_splice = video_url.split('=')\n",
    "video_splice"
   ]
  },
  {
   "cell_type": "code",
   "execution_count": 23,
   "metadata": {},
   "outputs": [
    {
     "data": {
      "text/plain": [
       "[{'text': 'come for the data science stay for the',\n",
       "  'start': 0.0,\n",
       "  'duration': 5.19},\n",
       " {'text': \"memes hello world it's Suraj and data\",\n",
       "  'start': 1.89,\n",
       "  'duration': 5.31},\n",
       " {'text': 'science is the hottest career to get',\n",
       "  'start': 5.19,\n",
       "  'duration': 4.32},\n",
       " {'text': 'into this year every industry is', 'start': 7.2, 'duration': 4.59},\n",
       " {'text': 'collecting customer data and using it to',\n",
       "  'start': 9.51,\n",
       "  'duration': 4.799},\n",
       " {'text': 'make smarter decisions which leads to',\n",
       "  'start': 11.79,\n",
       "  'duration': 5.069},\n",
       " {'text': 'higher profits the demand to fill data',\n",
       "  'start': 14.309,\n",
       "  'duration': 4.831}]"
      ]
     },
     "execution_count": 23,
     "metadata": {},
     "output_type": "execute_result"
    }
   ],
   "source": [
    "video_transcript = YouTubeTranscriptApi.get_transcript(video_splice[1])\n",
    "video_transcript[0:7]"
   ]
  },
  {
   "cell_type": "code",
   "execution_count": 15,
   "metadata": {},
   "outputs": [
    {
     "data": {
      "text/plain": [
       "'come for the data science stay for the'"
      ]
     },
     "execution_count": 15,
     "metadata": {},
     "output_type": "execute_result"
    }
   ],
   "source": [
    "video_transcript[0]['text'] # how to separate one 'text' from the pack"
   ]
  },
  {
   "cell_type": "code",
   "execution_count": 25,
   "metadata": {},
   "outputs": [
    {
     "data": {
      "text/plain": [
       "['come for the data science stay for the',\n",
       " \"memes hello world it's Suraj and data\",\n",
       " 'science is the hottest career to get',\n",
       " 'into this year every industry is',\n",
       " 'collecting customer data and using it to',\n",
       " 'make smarter decisions which leads to',\n",
       " 'higher profits the demand to fill data',\n",
       " 'science positions is through the roof',\n",
       " 'globally and forecasts reveal that this',\n",
       " 'demand will only increase in the coming']"
      ]
     },
     "execution_count": 25,
     "metadata": {},
     "output_type": "execute_result"
    }
   ],
   "source": [
    "video_transcript_list = []\n",
    "a = 0\n",
    "\n",
    "for i in video_transcript:\n",
    "    video_transcript_list.append(video_transcript[a]['text'])\n",
    "    a+=1\n",
    "    \n",
    "video_transcript_list[:10]"
   ]
  },
  {
   "cell_type": "markdown",
   "metadata": {},
   "source": [
    "alrighty, now for the finale. I'm going to turn it into a string."
   ]
  },
  {
   "cell_type": "code",
   "execution_count": 28,
   "metadata": {},
   "outputs": [
    {
     "data": {
      "text/plain": [
       "\"come for the data science stay for the memes hello world it's Suraj and data science is the hottest career to get into this year every industry is collecting customer data and using it to make smarter decisions which leads to higher profits the demand to fill data science positions is through the roof globally and forecasts reveal that this demand will only increase in the coming years so to help you take part in this rapidly growing field I've created a three-month curriculum to take you from a\""
      ]
     },
     "execution_count": 28,
     "metadata": {},
     "output_type": "execute_result"
    }
   ],
   "source": [
    "s = ' '\n",
    "transcript_string = s.join(video_transcript_list)\n",
    "\n",
    "transcript_string[:500]"
   ]
  },
  {
   "cell_type": "markdown",
   "metadata": {},
   "source": [
    "boom da boom. That's not all I have done today for coding but I don't always just want to work on my site. I also did some Dataquest lessons. Let me know what you think.\n",
    "\n",
    "Peace."
   ]
  },
  {
   "cell_type": "code",
   "execution_count": null,
   "metadata": {},
   "outputs": [],
   "source": []
  }
 ],
 "metadata": {
  "kernelspec": {
   "display_name": "Python 3",
   "language": "python",
   "name": "python3"
  },
  "language_info": {
   "codemirror_mode": {
    "name": "ipython",
    "version": 3
   },
   "file_extension": ".py",
   "mimetype": "text/x-python",
   "name": "python",
   "nbconvert_exporter": "python",
   "pygments_lexer": "ipython3",
   "version": "3.6.5"
  }
 },
 "nbformat": 4,
 "nbformat_minor": 2
}
