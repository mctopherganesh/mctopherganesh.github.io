{
 "cells": [
  {
   "cell_type": "code",
   "execution_count": 1,
   "metadata": {},
   "outputs": [
    {
     "name": "stdout",
     "output_type": "stream",
     "text": [
      "hello cruel world\n"
     ]
    }
   ],
   "source": [
    "print('hello cruel world')"
   ]
  },
  {
   "cell_type": "code",
   "execution_count": 2,
   "metadata": {},
   "outputs": [
    {
     "name": "stdout",
     "output_type": "stream",
     "text": [
      "\u001b[0m\u001b[01;35m3c6.gif\u001b[0m                     new_blog_roll.html\r\n",
      "404.html                    old_blog_table_page.html\r\n",
      "\u001b[01;35m83453.jpg\u001b[0m                   pastebin.html\r\n",
      "\u001b[01;34mblog\u001b[0m/                       README.md\r\n",
      "blog.html                   README.md.backup\r\n",
      "cant_find_it.html           \u001b[01;35mSelection_789.png\u001b[0m\r\n",
      "\u001b[01;35mcat.gif\u001b[0m                     \u001b[01;35mSelection_790.png\u001b[0m\r\n",
      "CNAME                       \u001b[01;35mSelection_792.png\u001b[0m\r\n",
      "\u001b[01;35mhappy_day_of_week_view.png\u001b[0m  \u001b[01;35mSelection_793.png\u001b[0m\r\n",
      "\u001b[01;35mh_correlations.png\u001b[0m          \u001b[01;35mSelection_795.png\u001b[0m\r\n",
      "\u001b[01;34mimg\u001b[0m/                        \u001b[01;35mSelection_861.png\u001b[0m\r\n",
      "\u001b[01;35mIMG-5317.jpg\u001b[0m                \u001b[01;35msoup.gif\u001b[0m\r\n",
      "index.html                  styles.css\r\n",
      "\u001b[01;34mipynb_files\u001b[0m/                \u001b[01;34mtemp\u001b[0m/\r\n",
      "mcTophGSpider_spider.py     Untitled.ipynb\r\n",
      "new_blog.html               workflow_blogroll_new_design.ipynb\r\n",
      "new_blog_page.html          workflow_current.ipynb\r\n"
     ]
    }
   ],
   "source": [
    "ls"
   ]
  },
  {
   "cell_type": "code",
   "execution_count": 9,
   "metadata": {},
   "outputs": [
    {
     "name": "stdout",
     "output_type": "stream",
     "text": [
      "country_stats_1993_appendix2.csv        \u001b[0m\u001b[01;35mfrance_fatalities.png\u001b[0m\r\n",
      "\u001b[01;35meu_fatalities_by_country.png\u001b[0m            france_terrorism_fatalities_by_year.csv\r\n",
      "\u001b[01;35meu_fatalities.png\u001b[0m                       \u001b[01;32mGTD_Codebook_2015Final.pdf\u001b[0m*\r\n",
      "eu_terrorism_fatalities_by_country.csv  paris_terror_analysis.R\r\n",
      "eu_terrorism_fatalities_by_year.csv     README.md\r\n"
     ]
    }
   ],
   "source": [
    ":ls /home/face/data/five_thirty_eight_data_repo/data/terrorism/"
   ]
  },
  {
   "cell_type": "code",
   "execution_count": 14,
   "metadata": {},
   "outputs": [
    {
     "data": {
      "text/html": [
       "<div>\n",
       "<style scoped>\n",
       "    .dataframe tbody tr th:only-of-type {\n",
       "        vertical-align: middle;\n",
       "    }\n",
       "\n",
       "    .dataframe tbody tr th {\n",
       "        vertical-align: top;\n",
       "    }\n",
       "\n",
       "    .dataframe thead th {\n",
       "        text-align: right;\n",
       "    }\n",
       "</style>\n",
       "<table border=\"1\" class=\"dataframe\">\n",
       "  <thead>\n",
       "    <tr style=\"text-align: right;\">\n",
       "      <th></th>\n",
       "      <th>iyear</th>\n",
       "      <th>Belgium</th>\n",
       "      <th>Denmark</th>\n",
       "      <th>France</th>\n",
       "      <th>Germany</th>\n",
       "      <th>Greece</th>\n",
       "      <th>Ireland</th>\n",
       "      <th>Italy</th>\n",
       "      <th>Luxembourg</th>\n",
       "      <th>Netherlands</th>\n",
       "      <th>Portugal</th>\n",
       "      <th>Spain</th>\n",
       "      <th>United Kingdom</th>\n",
       "    </tr>\n",
       "  </thead>\n",
       "  <tbody>\n",
       "    <tr>\n",
       "      <th>0</th>\n",
       "      <td>1970</td>\n",
       "      <td>0</td>\n",
       "      <td>0</td>\n",
       "      <td>0</td>\n",
       "      <td>0</td>\n",
       "      <td>2</td>\n",
       "      <td>1</td>\n",
       "      <td>0</td>\n",
       "      <td>0</td>\n",
       "      <td>0</td>\n",
       "      <td>0</td>\n",
       "      <td>0</td>\n",
       "      <td>20</td>\n",
       "    </tr>\n",
       "    <tr>\n",
       "      <th>1</th>\n",
       "      <td>1971</td>\n",
       "      <td>0</td>\n",
       "      <td>0</td>\n",
       "      <td>0</td>\n",
       "      <td>0</td>\n",
       "      <td>0</td>\n",
       "      <td>1</td>\n",
       "      <td>0</td>\n",
       "      <td>0</td>\n",
       "      <td>0</td>\n",
       "      <td>0</td>\n",
       "      <td>0</td>\n",
       "      <td>110</td>\n",
       "    </tr>\n",
       "    <tr>\n",
       "      <th>2</th>\n",
       "      <td>1972</td>\n",
       "      <td>0</td>\n",
       "      <td>0</td>\n",
       "      <td>1</td>\n",
       "      <td>0</td>\n",
       "      <td>0</td>\n",
       "      <td>6</td>\n",
       "      <td>1</td>\n",
       "      <td>0</td>\n",
       "      <td>0</td>\n",
       "      <td>0</td>\n",
       "      <td>2</td>\n",
       "      <td>368</td>\n",
       "    </tr>\n",
       "    <tr>\n",
       "      <th>3</th>\n",
       "      <td>1973</td>\n",
       "      <td>0</td>\n",
       "      <td>0</td>\n",
       "      <td>5</td>\n",
       "      <td>0</td>\n",
       "      <td>5</td>\n",
       "      <td>4</td>\n",
       "      <td>62</td>\n",
       "      <td>0</td>\n",
       "      <td>1</td>\n",
       "      <td>0</td>\n",
       "      <td>6</td>\n",
       "      <td>210</td>\n",
       "    </tr>\n",
       "    <tr>\n",
       "      <th>4</th>\n",
       "      <td>1974</td>\n",
       "      <td>0</td>\n",
       "      <td>0</td>\n",
       "      <td>3</td>\n",
       "      <td>0</td>\n",
       "      <td>92</td>\n",
       "      <td>34</td>\n",
       "      <td>26</td>\n",
       "      <td>0</td>\n",
       "      <td>1</td>\n",
       "      <td>0</td>\n",
       "      <td>19</td>\n",
       "      <td>234</td>\n",
       "    </tr>\n",
       "  </tbody>\n",
       "</table>\n",
       "</div>"
      ],
      "text/plain": [
       "   iyear  Belgium  Denmark  France  Germany  Greece  Ireland  Italy  \\\n",
       "0   1970        0        0       0        0       2        1      0   \n",
       "1   1971        0        0       0        0       0        1      0   \n",
       "2   1972        0        0       1        0       0        6      1   \n",
       "3   1973        0        0       5        0       5        4     62   \n",
       "4   1974        0        0       3        0      92       34     26   \n",
       "\n",
       "   Luxembourg  Netherlands  Portugal  Spain  United Kingdom  \n",
       "0           0            0         0      0              20  \n",
       "1           0            0         0      0             110  \n",
       "2           0            0         0      2             368  \n",
       "3           0            1         0      6             210  \n",
       "4           0            1         0     19             234  "
      ]
     },
     "execution_count": 14,
     "metadata": {},
     "output_type": "execute_result"
    }
   ],
   "source": [
    "import pandas as pd\n",
    "tr = '/home/face/data/five_thirty_eight_data_repo/data/terrorism/eu_terrorism_fatalities_by_country.csv'\n",
    "tr = pd.read_csv(tr)\n",
    "tr.head()"
   ]
  },
  {
   "cell_type": "code",
   "execution_count": 16,
   "metadata": {},
   "outputs": [
    {
     "data": {
      "text/plain": [
       "(45, 13)"
      ]
     },
     "execution_count": 16,
     "metadata": {},
     "output_type": "execute_result"
    }
   ],
   "source": [
    "tr.shape"
   ]
  },
  {
   "cell_type": "code",
   "execution_count": 31,
   "metadata": {},
   "outputs": [
    {
     "data": {
      "text/plain": [
       "1    1971\n",
       "2    1972\n",
       "3    1973\n",
       "4    1974\n",
       "Name: iyear, dtype: int64"
      ]
     },
     "execution_count": 31,
     "metadata": {},
     "output_type": "execute_result"
    }
   ],
   "source": [
    "num'iyear'].loc[0:4][1].split()"
   ]
  },
  {
   "cell_type": "code",
   "execution_count": null,
   "metadata": {},
   "outputs": [],
   "source": []
  }
 ],
 "metadata": {
  "kernelspec": {
   "display_name": "Python 3",
   "language": "python",
   "name": "python3"
  },
  "language_info": {
   "codemirror_mode": {
    "name": "ipython",
    "version": 3
   },
   "file_extension": ".py",
   "mimetype": "text/x-python",
   "name": "python",
   "nbconvert_exporter": "python",
   "pygments_lexer": "ipython3",
   "version": "3.8.3"
  }
 },
 "nbformat": 4,
 "nbformat_minor": 4
}
