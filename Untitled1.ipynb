{
 "cells": [
  {
   "cell_type": "code",
   "execution_count": 1,
   "metadata": {},
   "outputs": [
    {
     "name": "stdout",
     "output_type": "stream",
     "text": [
      "Thu 05 Aug 2021 07:37:58 PM EDT\r\n"
     ]
    }
   ],
   "source": [
    "# in beta\n",
    "!date"
   ]
  },
  {
   "cell_type": "markdown",
   "metadata": {},
   "source": [
    "life is like a box of chocolates\n",
    "\n",
    "but more like the boxes that come without a map to tell you where the really tasty chocolates are.\n",
    "\n",
    "no wait.\n",
    "\n",
    "life is like a box of chocolates\n",
    "\n",
    "it gets all stale and crusty when you forget them on top of the refrigerator for months because you can't see them and where are you supposed to even put chocolates anyway but your little cousin still seems pretty psyched about it when you regift it to them for Halloween.\n",
    "\n",
    "honestly I can't remember the saying but I think I made that up or someone some place at some time had said it or maybe a famous person.\n",
    "\n",
    "The moral of the story here is that today I've decided to do rerelease (oh yeah, rerelease lads and lasses) all my #100DaysOfCode blog posts.\n",
    "\n",
    "Why open the old box of blogs? Why open the box of chocolates?\n",
    "\n",
    "Obvi to see what's inside, trick question.\n",
    "\n",
    "Originally I made a website, as a blog, to keep track of this challenge all these young go hards on Twitter take part in and because I follow the righteous path of young-go-hardness, I took part in it as well. The _challenge,_  was to code/learn some code/program something once a day, everyday for at least an hour and then tweet about it with the hashtag #100DaysOfCode It makes for pretty easy retweets and likes and there is a community out there all struggling together.\n",
    "\n",
    "Kumbaya.\n",
    "\n",
    "I decided part of my challenge was to write a blog post as well about what I worked on that day. This is because I whole heartedly believe that if you can explain something, then you know it. And the better you can explain it, and the more you can extrapolate that knowledge to form into a medium in which ANYONE can understand it is the path to mastery of said knowledge.\n",
    "\n",
    "The first #100DaysOfCode challenge I finished out, all 100 days. \n",
    "\n",
    "so ez.\n",
    "\n",
    "Back then I realized that all the hype on Twitter would probably help me get a job as a \n",
    "\n",
    "# CODERRRR\n",
    "\n",
    "yeah i had no clue\n",
    "\n",
    "Funny thing is, it did get me a job and at that job I did get to do a little programming. And I got a free lifetime membership to CodeCombat. Shout out to my CodeComatants.\n",
    "\n",
    "I tried again awhile ago and it didn't really go as smoothly as the first time (these will be the posts I will be posting tehehehe) I think I partially struggled with understanding what it was I wanted to write on my blog and whom I was attempting to garner the attention of on Twitter. \n",
    "\n",
    "I wanted to do the challenge for the challenge's own sake, but I wanted to showcase my mad coding skillzzz and be crowned Junior Data Dude of the year at Data Corp International.\n",
    "\n",
    "I think on any journey of learning what you tend to realize out more and more is how much you don't know, and how long it might take to become competent about those things you don't even know exist yet. \n",
    "\n",
    "That wasn't meant to sound hopeless. That's something that excites me.\n",
    "\n",
    "When it came to programming, what I really really wanted was to be able to use it to understand other things, things like systems and data and then take that knowledge and deliver in a way that other people could understand it to.\n",
    "\n",
    "and just write about it. cuz whatever dude.\n",
    "\n",
    "I think for the longest time this skill I've been learning has been this thing I thought I was going to be able to make a career out of it but it has now long become an interest..project..thing. And after getting a taste of the data world through a few interviews, I think that there is a lot more stuff I would like to know before even _officially stepping in,_ if you will. \n",
    "\n",
    "why am I making edits on old blog posts \n",
    "\n",
    "because because because\n",
    "\n",
    "### review.\n",
    "\n",
    "If you can't tell, most of what I write here is shipped literally the second it's done. That's mainly because it's kind of a small project to deliver every post at the moment but that will soon be getting AUTOMATED ([which is a process that takes root in this here blog post](https://mctopherganesh.com/blog/something.html)). woot. And then I can post posts faster so settle down out there sheesh.\n",
    "\n",
    "It's time, as the programming person that I am to look at old things I wrote and wonder what the h I was thinking. I'm sure it'll be a good time. And some of it might turn into their own projects and thus further learning and furthermore, blog posts.\n",
    "\n",
    "So it's like job security for my hobby/learning..project..thing/writing.\n",
    "\n",
    "It's totally not cuz I don't have enough writing ideas. That never happens to people who write.\n",
    "\n",
    "```\n",
    "run out of ideas.\n",
    "the thought.\n",
    "hilarious.\n",
    "```\n",
    "\n",
    "anyway, that's the whole point of sharing. other tiny reasons. \n",
    "\n",
    "*  review of old code is good coding practice.\n",
    "*  cuz im shy and they might be bad\n",
    "*  maybe they'll be good. or it'll be fun. \n",
    "*  it's kind of ez. low hanging fruit is the heaviest.\n",
    "*  because there are a bunch of tools i used and forgot about and i can't remember how to do the thing with the stuff\n",
    "*  i love improving on a process or a system so this is like, that but so meta (whoa)\n",
    "*  i know i said a lot of stuff about doing this or that. i want to go back to hold myself accountable on some of those things. \n",
    "*  this is going to help me build out the project from the link about the root of the project that i was talking about before up there okay great fantastic\n",
    "\n",
    "for the old posts I will be making edits. I will try to make the edits as clear as possible. something like below."
   ]
  },
  {
   "cell_type": "code",
   "execution_count": 2,
   "metadata": {},
   "outputs": [
    {
     "name": "stdout",
     "output_type": "stream",
     "text": [
      "Thu 05 Aug 2021 09:33:17 PM EDT\r\n"
     ]
    }
   ],
   "source": [
    "# beginning of EDIT\n",
    "!date\n",
    "\n",
    "# below is the date of the EDIT"
   ]
  },
  {
   "cell_type": "markdown",
   "metadata": {},
   "source": [
    "_old post example text:_ blah blah blah something about a project that's WAY too huge here's code\n",
    "\n",
    "`code codecode codecode codecodecode code code CODE 1. 3213. 47. blarg.`"
   ]
  },
  {
   "cell_type": "markdown",
   "metadata": {},
   "source": [
    "# EDIT \n",
    "\n",
    "_example edit body:_ Wow that code is confusing. Here's what I was trying to do. Here's more words. Another wild commitment to a project that might be way to big. Some other insightful reflection. Blah."
   ]
  },
  {
   "cell_type": "markdown",
   "metadata": {},
   "source": [
    "There you go. That's what to expect moving forward. I may not edit them at all because I'm sure that some of them might be kind of maybe like sort of okay.\n",
    "\n",
    "Who knows. I'm a wildcard.\n",
    "\n",
    "As for the #100DaysOfCode challenge, my days of tweeting about coding and such are over but I am interested in attempting to challenge myself to _try_ to code more days in the week than not and see where that takes us."
   ]
  },
  {
   "cell_type": "markdown",
   "metadata": {},
   "source": [
    "# in conclusion\n",
    "\n",
    "another post talking about a bunch of more work I'm about to do. will the work ever end? I surely hope not.\n",
    "\n",
    "thanks for reading."
   ]
  },
  {
   "cell_type": "markdown",
   "metadata": {},
   "source": [
    "[CodeCombat](https://codecombat.com) is a website that helps you learn how to code in JavaScript and Python by playing a game. Literally. And then they build the game with the game. It gets crazy."
   ]
  }
 ],
 "metadata": {
  "kernelspec": {
   "display_name": "Python 3",
   "language": "python",
   "name": "python3"
  },
  "language_info": {
   "codemirror_mode": {
    "name": "ipython",
    "version": 3
   },
   "file_extension": ".py",
   "mimetype": "text/x-python",
   "name": "python",
   "nbconvert_exporter": "python",
   "pygments_lexer": "ipython3",
   "version": "3.8.3"
  }
 },
 "nbformat": 4,
 "nbformat_minor": 4
}
