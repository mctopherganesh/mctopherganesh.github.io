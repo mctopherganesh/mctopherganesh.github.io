{
 "cells": [
  {
   "cell_type": "markdown",
   "metadata": {},
   "source": [
    "I'm super excited sports fans. Today I learned so much stuff. Like this nice tidbit that will make me sound super bad at JavaScript but here we go.\n",
    "\n",
    "You cannot have your `src=\"\"` class/attribute/parameter/thingy inside the same `<script>` tag as the actual script you're running, which you need to run in separate `<script></script>` tags. \n",
    "\n",
    "So I have this pretty awesome [book](https://www.google.com/search?client=ubuntu&hs=Gu4&channel=fs&q=Data+Visualization+with+JavaScript&stick=H4sIAAAAAAAAAG2Sv4vUQBTHN8utnHOrrDmuiSjhEDwOIckk2STXWIidh6DXL_k1O8lOduLMmGxSCddZin-BtY2F4J-gV1rYCBYWgv-BpRfZzO3hlZ_3fe8zb-Btj_ZvGHPDsiLvhe9YJoaHJONCp0jPwyrkMctKoSehCPUq4y9DkrWhyOhSjyhdnCmXZ8-Uccc4rlxsF0zGdcndlvVxg11ul54t46mJXDyfXXAsSoRY346WM26bUR-jtuFFLux1nM9J6dckXyOszenUasXF26hCEWs3Vg3qHK56jguX-cjGPWMzKirfk6_FLsw9FvtrfQsrp0RR0sfzZoXcWpiSxSxom9rpt4GWK3whv4oaM4DeAkk7LJeWgyzJVlkIXECpmwfFakZqyUHCF4zYP5W3w53J7z8_drXXwzfvv3xTTodg8oRSnpLmWUpCkSYnVL0Hrj1eikw0qgbG2rZRGCYsA-9goAEgSf2sgJ3nqTihxzTJUKN-UtSPyhW2A2m7C25qoJt3UMvc5Nw3Bhus1peFWEXg-nFaRCnjT5F6BMAjSkgad3ekPgB72i0jlgWjOyx-rtwF_5f378DbX399_zDaA1td4XA4UdzB4NXDo384fje6f8Wp1pnAm9fctf4F0NrAsPgCAAA&sa=X&ved=0ahUKEwjJ0_CdjdzjAhUPKqwKHfQ-BLoQ-BYIMDAM&biw=1920&bih=957#) that's also online right [here](http://jsdatav.is/chap01.html)\n",
    "\n",
    "and I was just following along in one of the tutorials and there are literally no troubleshooting docs on what to do because I think people don't nonsensically try to combine different script tags. Right? Well I hope I'm not alone out there looking for that error, because I was entirely looking for the wrong thing and just happened to notice something strange when staring down the less than 10 lines of code inside the html, wondering what the heck was wrong after the past day or two."
   ]
  },
  {
   "cell_type": "markdown",
   "metadata": {},
   "source": [
    "# because show is better than tell here's what I had\n",
    "\n",
    "`"
   ]
  },
  {
   "cell_type": "code",
   "execution_count": null,
   "metadata": {},
   "outputs": [],
   "source": []
  },
  {
   "cell_type": "markdown",
   "metadata": {},
   "source": [
    "So welcome to \n",
    "\n",
    "# day 7\n",
    "\n",
    "1 whole week and I seriously can't believe how much I know about so many things this week already. I've been literally watching coding tutorials like people watch content that doesn't contribute to their life in any positive way. I've been watching talks here, doing things there. I've been tracking my work and managing my time. \n",
    "\n",
    "A lot of the days I have had the chance to work on something pretty fulfilling but I didn't really spend a lot of time on one thing in particular. I worked on many things. I'm just started reading this \"Miracle Math\" book that is going to help me be a mental math wiz or something.\n",
    "\n",
    "I approached the problem, like any problem I approach these days. Making any excuse to start a project I definitely do not know how and if I can finish. I mean, is software ever done? _Yeesh._"
   ]
  },
  {
   "cell_type": "markdown",
   "metadata": {},
   "source": [
    "Building this little doohickey of a thing, that helped me prove that I was using this magical math technique was a neat little math / programming problem that was super easy to make. It gave me an idea because I realized that I use all of these tools all the time and I can remember parts here and there about what to use for this and for that but when I tried rewriting my own automation scripts from zero it was kind of tough. I think that I need to build super crazily and hook weird stuff together and "
   ]
  },
  {
   "cell_type": "code",
   "execution_count": null,
   "metadata": {},
   "outputs": [],
   "source": []
  }
 ],
 "metadata": {
  "kernelspec": {
   "display_name": "Python 3",
   "language": "python",
   "name": "python3"
  },
  "language_info": {
   "codemirror_mode": {
    "name": "ipython",
    "version": 3
   },
   "file_extension": ".py",
   "mimetype": "text/x-python",
   "name": "python",
   "nbconvert_exporter": "python",
   "pygments_lexer": "ipython3",
   "version": "3.7.3"
  }
 },
 "nbformat": 4,
 "nbformat_minor": 2
}
