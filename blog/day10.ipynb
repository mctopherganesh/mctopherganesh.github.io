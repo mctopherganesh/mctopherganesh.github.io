{
 "cells": [
  {
   "cell_type": "markdown",
   "metadata": {},
   "source": [
    "Sometimes I wonder if anyone is reading these. I say this all the time on here and the last time I did #100DaysOfCode but the blogging part really is for me. To me it feels like something I need to do, write and reflect on my learning that day. Even if it's just something like this:"
   ]
  },
  {
   "cell_type": "code",
   "execution_count": 1,
   "metadata": {},
   "outputs": [
    {
     "ename": "SyntaxError",
     "evalue": "invalid syntax (<ipython-input-1-fa4125efb7a2>, line 1)",
     "output_type": "error",
     "traceback": [
      "\u001b[0;36m  File \u001b[0;32m\"<ipython-input-1-fa4125efb7a2>\"\u001b[0;36m, line \u001b[0;32m1\u001b[0m\n\u001b[0;31m    Today I coded in coding language and it did stuff\u001b[0m\n\u001b[0m          ^\u001b[0m\n\u001b[0;31mSyntaxError\u001b[0m\u001b[0;31m:\u001b[0m invalid syntax\n"
     ]
    }
   ],
   "source": [
    "Today I coded in coding language and it did stuff"
   ]
  },
  {
   "cell_type": "markdown",
   "metadata": {},
   "source": [
    "Psh. Silly Python.\n",
    "\n",
    "Today I did do some work on my website. I very much doing nit picky design things. Trying to get things to center or move around. Browser developers are insane. I don't even know how they get the browser to do some of the stuff that it does. "
   ]
  },
  {
   "cell_type": "markdown",
   "metadata": {},
   "source": [
    "Maybe I do this because I do actually think someone will come and read these. I mean, I put the posts out there right? I tweet them to my 200 some followers and I'm like -\n",
    "\n",
    "\n",
    "# HEY LOOK OVER HERE, I'M BETTERING MYSELF SO YOUR 2nd & 3rd CONNECTIONS ON LINKEDIN WILL REFER ME TO THEIR CONNECTIONS AND I'LL GET A JOB DOING THIS CRAZY STUFF"
   ]
  },
  {
   "cell_type": "markdown",
   "metadata": {},
   "source": [
    "Here's what I do know. Coding is hard. Back end coding, front end coding. Encoding, decoding, recoding, uncoding, and even ex-coding. \n",
    "\n",
    "(I don't know what any of those last few mean but I read them on some street sign in northern Missouri in the middle of the night and there was no one around to confirm or deny it)\n",
    "\n",
    "I don't know where I was going with this.\n",
    "\n",
    "\n",
    "...\n",
    "\n",
    "\n",
    "Maybe if I give it a little bit of time, it'll come back to me...hold up..\n",
    "\n",
    "\n",
    ".."
   ]
  },
  {
   "cell_type": "markdown",
   "metadata": {},
   "source": [
    "I didn't really code until later in the day today. I spent a lot of time yesterday working on something that didn't end up working and most of the day today stressing out about a project I want to do but don't want to do with my client. It's complicated because it's totally the project I want to do but it's working in a way and with people that I wouldn't really choose. Just the idea of the project alone, not even the project itself was taking up a lot of space in my mind <!--so I quit it because I want more time to code and sometimes it's right to quit things that take up space in your head. it's a really good project too, but it just doesn't feel like the right one. I wish we were doing it a different way but this freelancer stuff isn't that great sometimes. You don't really get a say in what you're doing or how you're doing it. I don't know how to farm clout as a freelancer. Honestly I just want to keep working on my coding. I have this feeling like I'm about to hit it big, like get a really good position or job or something, a place where I will really fit in and I can leave this freelancer stuff behind me.-->. \n",
    "\n",
    "\n",
    "Coding takes enough time in my head as it is. \n",
    "\n",
    "I hope that I can get better at making websites. I think that's why it never took is because the whole process seems less than automatic and responsive. With Python I can type a bunch of stuff in and Python will tell me **something** but sometimes you code your face off in HTML, CSS, or JavaScript and you get a big blank screen, no read outs or anything and you may have technically done everything correct but who knows what you didn't do to get stuff to appear. I'm sure the other side of that is that's bad testing if you don't know what you're working on is not working right? \n",
    "\n",
    "Like, never sink tons of hours into your code without testing it. How do you test it? Just run the dang thing. \n",
    "\n",
    "\n",
    "Alright. Thanks for coming all who do on \n",
    "# day 10\n",
    "and enjoy your weekend.\n",
    "\n",
    "ciao"
   ]
  },
  {
   "cell_type": "markdown",
   "metadata": {},
   "source": [
    "2019-08-03 02:52:48.728094"
   ]
  }
 ],
 "metadata": {
  "kernelspec": {
   "display_name": "Python 3",
   "language": "python",
   "name": "python3"
  },
  "language_info": {
   "codemirror_mode": {
    "name": "ipython",
    "version": 3
   },
   "file_extension": ".py",
   "mimetype": "text/x-python",
   "name": "python",
   "nbconvert_exporter": "python",
   "pygments_lexer": "ipython3",
   "version": "3.7.3"
  }
 },
 "nbformat": 4,
 "nbformat_minor": 2
}
