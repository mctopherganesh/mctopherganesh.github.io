{
 "cells": [
  {
   "cell_type": "markdown",
   "metadata": {},
   "source": [
    "2019-08-02 00:44:58.573564"
   ]
  },
  {
   "cell_type": "markdown",
   "metadata": {},
   "source": [
    "I'm super excited sports fans. Today I learned so much stuff. Like this nice tidbit that will make me sound super bad at JavaScript but here we go.\n",
    "\n",
    "You cannot have your `src=\"\"` class/attribute/parameter/thingy inside the same `<script>` tag as the actual script you're running, which you need to run in separate `<script></script>` tags. \n",
    "\n",
    "So I have this pretty awesome [book](https://www.google.com/search?client=ubuntu&hs=Gu4&channel=fs&q=Data+Visualization+with+JavaScript&stick=H4sIAAAAAAAAAG2Sv4vUQBTHN8utnHOrrDmuiSjhEDwOIckk2STXWIidh6DXL_k1O8lOduLMmGxSCddZin-BtY2F4J-gV1rYCBYWgv-BpRfZzO3hlZ_3fe8zb-Btj_ZvGHPDsiLvhe9YJoaHJONCp0jPwyrkMctKoSehCPUq4y9DkrWhyOhSjyhdnCmXZ8-Uccc4rlxsF0zGdcndlvVxg11ul54t46mJXDyfXXAsSoRY346WM26bUR-jtuFFLux1nM9J6dckXyOszenUasXF26hCEWs3Vg3qHK56jguX-cjGPWMzKirfk6_FLsw9FvtrfQsrp0RR0sfzZoXcWpiSxSxom9rpt4GWK3whv4oaM4DeAkk7LJeWgyzJVlkIXECpmwfFakZqyUHCF4zYP5W3w53J7z8_drXXwzfvv3xTTodg8oRSnpLmWUpCkSYnVL0Hrj1eikw0qgbG2rZRGCYsA-9goAEgSf2sgJ3nqTihxzTJUKN-UtSPyhW2A2m7C25qoJt3UMvc5Nw3Bhus1peFWEXg-nFaRCnjT5F6BMAjSkgad3ekPgB72i0jlgWjOyx-rtwF_5f378DbX399_zDaA1td4XA4UdzB4NXDo384fje6f8Wp1pnAm9fctf4F0NrAsPgCAAA&sa=X&ved=0ahUKEwjJ0_CdjdzjAhUPKqwKHfQ-BLoQ-BYIMDAM&biw=1920&bih=957#) that's also online right [here](http://jsdatav.is/chap01.html)\n",
    "\n",
    "and I was just following along in one of the tutorials and there are literally no troubleshooting docs on what to do because I think people don't nonsensically try to combine different script tags. Right? Well I hope I'm not alone out there looking for that error, because I was entirely looking for the wrong thing and just happened to notice something strange when staring down the less than 10 lines of code inside the html, wondering what the heck was wrong after the past day or two."
   ]
  },
  {
   "cell_type": "markdown",
   "metadata": {},
   "source": [
    "So welcome to \n",
    "\n",
    "# day 7\n",
    "\n",
    "1 whole week and I seriously can't believe how much I know about so many things this week already. I've been literally watching coding tutorials like people watch content that doesn't contribute to their life in any positive way. I've been watching talks here, doing things there. I've been tracking my work and managing my time. \n",
    "\n",
    "A lot of the days I have had the chance to work on something pretty fulfilling but I didn't really spend a lot of time on one thing in particular. I worked on many things. I'm just started reading this \"Miracle Math\" book that is going to help me be a mental math wiz or something.\n",
    "\n",
    "I approached the problem, like any problem I approach these days. Making any excuse to start a project I definitely do not know how and if I can finish. I mean, is software ever done? _Yeesh._"
   ]
  },
  {
   "cell_type": "markdown",
   "metadata": {},
   "source": [
    "**hey this is Chris but on day 9 I was doing a lot of things on day 7 that I didn't even get around to finishing the blog post about it. Bad on me. Bad for you too. Anyway. Below this is the start for day 8 and this whole thing is going to be the post for day 9. Enjoy the rest of the post.**"
   ]
  },
  {
   "cell_type": "code",
   "execution_count": 3,
   "metadata": {},
   "outputs": [
    {
     "ename": "ModuleNotFoundError",
     "evalue": "No module named 'BeautifulSoup4'",
     "output_type": "error",
     "traceback": [
      "\u001b[0;31m---------------------------------------------------------------------------\u001b[0m",
      "\u001b[0;31mModuleNotFoundError\u001b[0m                       Traceback (most recent call last)",
      "\u001b[0;32m<ipython-input-3-7baa49e87c3d>\u001b[0m in \u001b[0;36m<module>\u001b[0;34m\u001b[0m\n\u001b[0;32m----> 1\u001b[0;31m \u001b[0;32mimport\u001b[0m \u001b[0mBeautifulSoup4\u001b[0m \u001b[0;31m# I'm so lazy.\u001b[0m\u001b[0;34m\u001b[0m\u001b[0;34m\u001b[0m\u001b[0m\n\u001b[0m",
      "\u001b[0;31mModuleNotFoundError\u001b[0m: No module named 'BeautifulSoup4'"
     ]
    }
   ],
   "source": [
    "import BeautifulSoup4 # I'm so lazy."
   ]
  },
  {
   "cell_type": "code",
   "execution_count": 6,
   "metadata": {},
   "outputs": [],
   "source": [
    "from bs4 import BeautifulSoup"
   ]
  },
  {
   "cell_type": "code",
   "execution_count": 8,
   "metadata": {},
   "outputs": [],
   "source": [
    "soup= BeautifulSoup(open(\"./untitled.html\"), \"html.parser\")"
   ]
  },
  {
   "cell_type": "code",
   "execution_count": 10,
   "metadata": {},
   "outputs": [],
   "source": [
    "soup =BeautifulSoup(open(\"./untitled.html\"),\"html.parser\")"
   ]
  },
  {
   "cell_type": "code",
   "execution_count": 11,
   "metadata": {},
   "outputs": [],
   "source": [
    "soup = BeautifulSoup(open(\"./untitled.html\"), \"html.parser\")"
   ]
  },
  {
   "cell_type": "code",
   "execution_count": 12,
   "metadata": {},
   "outputs": [],
   "source": [
    "soup=BeautifulSoup(open(\"./untitled.html\"), \"html.parser\")"
   ]
  },
  {
   "cell_type": "markdown",
   "metadata": {},
   "source": [
    "...\n",
    "\n",
    "\n",
    "umm"
   ]
  },
  {
   "cell_type": "code",
   "execution_count": 13,
   "metadata": {},
   "outputs": [
    {
     "name": "stdout",
     "output_type": "stream",
     "text": [
      "<!DOCTYPE html>\n",
      "\n",
      "<html lang=\"en\">\n",
      "<head>\n",
      "<meta charset=\"utf-8\"/>\n",
      "<title>test graph</title>\n",
      "</head>\n",
      "<body>\n",
      "<!--page content here-->\n",
      "<div id=\"chart\" style=\"width:600px; height:300px\"></div>\n",
      "<script src=\"./js/flotr2.min.js\" type=\"text/javascript\"></script>\n",
      "<script>\n",
      "\t\n",
      "\tvar wins = [\n",
      "\t\t[ [2006, 13], [2007, 11],[2008, 15], [2009,15], [2010, 18], [2011, 21], [2012,28]\n",
      "\t\t]\n",
      "\n",
      "\t];\n",
      "\n",
      "\t\twindow.onload = function() {\n",
      "\t\t\tFlotr.draw(\n",
      "\t\t\t\tdocument.getElementById(\"chart\"),\n",
      "\t\t\t\twins,\n",
      "\t\t\t\t{\n",
      "\t\t\t\t\tbars: {\n",
      "\t\t\t\t\t\tshow: true\n",
      "\t\t\t\t\t}\n",
      "\t\t\t\t}\n",
      "\t\t\t);\n",
      "\t\t};\n",
      "\t</script>\n",
      "</body>\n",
      "</html>\n"
     ]
    }
   ],
   "source": [
    "print(soup)"
   ]
  },
  {
   "cell_type": "markdown",
   "metadata": {},
   "source": [
    "nice. look how pretty that is. I laid out my javascript JUST like the book. <!--I honestly don't know if formatting like that matters. I've looked at page source code and it's a mess sometimes. I mean like, what's with all the space right? Does it matter how I arrange the array?--> Alright so JavaScript (I'll camel case it sometimes but probably stopping soon. That's why I have a column for describing the stuff I'm using so... hope that gives me leeway to be lazy and say \"js\" in my blog posts. \n",
    "\n",
    "Moving along.\n",
    "\n",
    "))\n",
    "\n",
    "<!--You thought I didn't know about the missing parenthesis?-->\n",
    "\n",
    "<!--#TODO: write more for nosy parker -->\n",
    "\n",
    "Alright so here's the code below that was the error ridden code. I thought I could get two things done with one bird \n",
    "\n",
    "# BUT \n",
    "\n",
    "I was also looking at this same bunch of code for like two(and a half) days being like ...uh i dunno..."
   ]
  },
  {
   "cell_type": "markdown",
   "metadata": {},
   "source": [
    "That happens. I didn't step away from it either. I just stared and stared. Like, searching google for everything. Looking at scripts, finding that blog post I referenced. I couldn't see it and maybe you'll empatheize and hire me to you data science team as an intern on a trial basis and then start bringing me in regurlarly and sending me around the world to talk to clients and POC \"robust\" data pipelines **OR** maybe you'll think I'm a dumb dumb head **BUT** if you do you'll have to tell me how to prevent myself from having this issue again. \n",
    "\n",
    "I hope I spelled all of that correctly. Welcome to another shameless career plug on \n",
    "\n",
    "# Day 8"
   ]
  },
  {
   "cell_type": "code",
   "execution_count": 18,
   "metadata": {},
   "outputs": [],
   "source": [
    "untitled_html = './untitled.html'\n",
    "soup=BeautifulSoup(open(untitled_html), 'html.parser')"
   ]
  },
  {
   "cell_type": "code",
   "execution_count": 19,
   "metadata": {},
   "outputs": [
    {
     "name": "stdout",
     "output_type": "stream",
     "text": [
      "<!DOCTYPE html>\n",
      "\n",
      "<html lang=\"en\">\n",
      "<head>\n",
      "<meta charset=\"utf-8\"/>\n",
      "<title>test graph</title>\n",
      "</head>\n",
      "<body>\n",
      "<!--page content here-->\n",
      "<div id=\"chart\" style=\"width:600px; height:300px\"></div>\n",
      "<script src=\"./js/flotr2.min.js\" type=\"text/javascript\"> <!-- https://upload.wikimedia.org/wikipedia/commons/f/f2/Coccinella_magnifica01.jpg -->\n",
      "\t\n",
      "\tvar wins = [\n",
      "\t\t[ [2006, 13], [2007, 11],[2008, 15], [2009,15], [2010, 18], [2011, 21], [2012,28]\n",
      "\t\t]\n",
      "\n",
      "\t];\n",
      "\n",
      "\t\twindow.onload = function() {\n",
      "\t\t\tFlotr.draw(\n",
      "\t\t\t\tdocument.getElementById(\"chart\"),\n",
      "\t\t\t\twins,\n",
      "\t\t\t\t{\n",
      "\t\t\t\t\tbars: {\n",
      "\t\t\t\t\t\tshow: true\n",
      "\t\t\t\t\t}\n",
      "\t\t\t\t}\n",
      "\t\t\t);\n",
      "\t\t};\n",
      "\t</script>\n",
      "</body>\n",
      "</html>\n"
     ]
    }
   ],
   "source": [
    "print(soup)"
   ]
  },
  {
   "cell_type": "markdown",
   "metadata": {},
   "source": [
    "# DO YOU SEE IT? DO YOU SEE THE HAPPY LADY BUG WAVING AT YOU?"
   ]
  },
  {
   "cell_type": "markdown",
   "metadata": {},
   "source": [
    "Alrighty. I'm glad to have made that apparent. If you don't see it, here's the rule from the js lord that allows you the gift of sight and opportunity to make DOPE visualizations."
   ]
  },
  {
   "cell_type": "markdown",
   "metadata": {},
   "source": [
    "- one shall not combine your script source tags with script tags that carry code. that's dirty. stop. just stop."
   ]
  },
  {
   "cell_type": "markdown",
   "metadata": {},
   "source": [
    "Except this error does not render an error message or anything in the console because it's like, an error that works really well at the error it produces."
   ]
  },
  {
   "cell_type": "markdown",
   "metadata": {},
   "source": [
    "# I'VE FOUND IT. THE ANOMALY IN THE MATRIX"
   ]
  },
  {
   "cell_type": "markdown",
   "metadata": {},
   "source": [
    "Also yes I changed the value of soup again. Today was actually a lesson in variables."
   ]
  },
  {
   "cell_type": "markdown",
   "metadata": {},
   "source": [
    "A funny gif would be funny here but I had trouble implementing that and I have other things to do so don't click on everything you see on the internet."
   ]
  },
  {
   "cell_type": "markdown",
   "metadata": {},
   "source": [
    "\n",
    "\n",
    "\n",
    "## end of day 8\n",
    "\n",
    "# beginning of day 9\n",
    "\n",
    "\n",
    "\n",
    "**that's all of it. I've been spending a great deal of time avoiding posting this because it wasn't ready but then I remembered that these are just blog posts and mine, so my excuse for the employers-the minimum requirement for #100DaysOfCode is an hour of code and a tweet. And asking people to join you.**\n",
    "\n",
    "**sometimes the coding actually gets in the way. most of the time I'm working on scripts for my job (not because I'm a programmer for my gig but because I use programming so I won't have to do repetitive boring work (also because if I can finish those automation scripts I can justify not doing the work I was doing))**\n",
    "\n",
    "**finding that balance is key and sometimes I should just realize that my brain is fried and I have nothing to write about or have the ability to come up with anything to write about.**\n",
    "\n",
    "**I'm sure I was going somewhere with this but I have forgotten. Again.**\n",
    "\n",
    "\n"
   ]
  },
  {
   "cell_type": "code",
   "execution_count": null,
   "metadata": {},
   "outputs": [],
   "source": []
  }
 ],
 "metadata": {
  "kernelspec": {
   "display_name": "Python 3",
   "language": "python",
   "name": "python3"
  },
  "language_info": {
   "codemirror_mode": {
    "name": "ipython",
    "version": 3
   },
   "file_extension": ".py",
   "mimetype": "text/x-python",
   "name": "python",
   "nbconvert_exporter": "python",
   "pygments_lexer": "ipython3",
   "version": "3.7.3"
  }
 },
 "nbformat": 4,
 "nbformat_minor": 2
}
