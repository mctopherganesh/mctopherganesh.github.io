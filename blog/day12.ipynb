{
 "cells": [
  {
   "cell_type": "markdown",
   "metadata": {},
   "source": [
    "2019-08-05 02:08:06.433349"
   ]
  },
  {
   "cell_type": "code",
   "execution_count": 1,
   "metadata": {},
   "outputs": [
    {
     "ename": "ModuleNotFoundError",
     "evalue": "No module named 'numpy'",
     "output_type": "error",
     "traceback": [
      "\u001b[0;31m---------------------------------------------------------------------------\u001b[0m",
      "\u001b[0;31mModuleNotFoundError\u001b[0m                       Traceback (most recent call last)",
      "\u001b[0;32m<ipython-input-1-d4cdadb62aa7>\u001b[0m in \u001b[0;36m<module>\u001b[0;34m\u001b[0m\n\u001b[0;32m----> 1\u001b[0;31m \u001b[0;32mimport\u001b[0m \u001b[0mnumpy\u001b[0m\u001b[0;34m\u001b[0m\u001b[0;34m\u001b[0m\u001b[0m\n\u001b[0m",
      "\u001b[0;31mModuleNotFoundError\u001b[0m: No module named 'numpy'"
     ]
    }
   ],
   "source": [
    "import numpy"
   ]
  },
  {
   "cell_type": "markdown",
   "metadata": {},
   "source": [
    "As I started writing this post I realized how many days I have start writing blog posts that sound like this one. What I was writing about before I deleted all of it was how I started working on something, got stuck, and hunted down the solution. As an hour went by (I have spent far longer on easier solutions) I realized I was digging myself a hole and just stopped because writing this blog post was more important to me than staying up late to figure out something that I already kind of have a solution to. Here's some context:\n",
    "\n",
    "Today I didn't have many ideas about what to work on. I wanted to Dataquest it up (a site that has you do data science training by challenges and what not, a resource I've used in the past <!--and took out a microloan to pay for this time but since doing that, I have barely touched it. Actually...barely is an overstatement...--> and I have really liked it. I also do (want to) believe that in my learning, I have to have one learning path to come back to because I am a resource hog <- by that I mean I will spend more time hording resources than I will coding. \n",
    "\n",
    "I opened up one of the missions and saw that it was doing a walkthrough of some data analysis. I wanted to copy it into my own notebook at the same time I was doing it. Above this blob of text is a cell that says `import numpy`. That's as far as I got.\n",
    "\n",
    "A few weeks ago, I could import just about any data science library included in the Anaconda distribution and it would work. No problems at all. A week or two ago I ran `conda update conda` for some reason (which I never do), thinking that I haven't updated conda in awhile (or maybe I saw something, or read something. I honestly don't know) and every since then I cannot import anything that I've easily used before. Watch."
   ]
  },
  {
   "cell_type": "code",
   "execution_count": 2,
   "metadata": {},
   "outputs": [
    {
     "ename": "ModuleNotFoundError",
     "evalue": "No module named 'pandas'",
     "output_type": "error",
     "traceback": [
      "\u001b[0;31m---------------------------------------------------------------------------\u001b[0m",
      "\u001b[0;31mModuleNotFoundError\u001b[0m                       Traceback (most recent call last)",
      "\u001b[0;32m<ipython-input-2-38d4b0363d82>\u001b[0m in \u001b[0;36m<module>\u001b[0;34m\u001b[0m\n\u001b[0;32m----> 1\u001b[0;31m \u001b[0;32mimport\u001b[0m \u001b[0mpandas\u001b[0m\u001b[0;34m\u001b[0m\u001b[0;34m\u001b[0m\u001b[0m\n\u001b[0m",
      "\u001b[0;31mModuleNotFoundError\u001b[0m: No module named 'pandas'"
     ]
    }
   ],
   "source": [
    "import pandas"
   ]
  },
  {
   "cell_type": "code",
   "execution_count": 3,
   "metadata": {},
   "outputs": [
    {
     "ename": "ModuleNotFoundError",
     "evalue": "No module named 'matplotlib'",
     "output_type": "error",
     "traceback": [
      "\u001b[0;31m---------------------------------------------------------------------------\u001b[0m",
      "\u001b[0;31mModuleNotFoundError\u001b[0m                       Traceback (most recent call last)",
      "\u001b[0;32m<ipython-input-3-0484cd13f94d>\u001b[0m in \u001b[0;36m<module>\u001b[0;34m\u001b[0m\n\u001b[0;32m----> 1\u001b[0;31m \u001b[0;32mimport\u001b[0m \u001b[0mmatplotlib\u001b[0m\u001b[0;34m\u001b[0m\u001b[0;34m\u001b[0m\u001b[0m\n\u001b[0m",
      "\u001b[0;31mModuleNotFoundError\u001b[0m: No module named 'matplotlib'"
     ]
    }
   ],
   "source": [
    "import matplotlib"
   ]
  },
  {
   "cell_type": "markdown",
   "metadata": {},
   "source": [
    "All stuff I have used before. There was a post I did a few days ago where I was using BeautifulSoup (another library included in the Anaconda distribution) and I had to reinstall it which I found weird. Selenium as well which I use constantly. \n",
    "\n",
    "So I dove into Google fingertips first trying to find what the issue might be then realizing that it might something I can fix with a virtual environment. I started booting up my conda virtualenv and then I realized I couldn't figure out how to boot up a virtualenv, and the use a juptyer notebook on top of it/in it/around it/in it's vicinity..whatever. \n",
    "\n",
    "Now I'm thinking about deleting Anaconda because this stuff used to be installed system-wide I thought but who knows now? \n",
    "\n",
    "Here's the real problem though.\n",
    "\n",
    "As a coder. or hold up.\n",
    "\n",
    "As a person who literally only creates and solves problems. Working on things that are well outside of my realm of knowledge, **every day** I am going to have probably hundreds of days like this. Days that devolve into solving the smallest issues that there are probably hundreds of work arounds for. For example, I could/should have just kept working on Dataquest and then (I'm pretty sure) I could download the notebook afterwards. Also, IBM has a platform where you can use Jupyter Notebooks and everything you need is preinstalled. Microsoft too. Also Mode. There are a bunch of open source platforms now. \n",
    "\n",
    "I've made my point. Many solutions.\n",
    "\n",
    "I don't want to have hundreds of blog posts documenting how I ran into a problem, did something, and either overcame it or just \"had one of those days\" and then go on to rant about how coding \"be like that sometimes.\"\n",
    "\n",
    "I mean, mostly, I will always be solving problems but I want the solutions to start looking more like well documented scientific journal entries rather than multipost endless rants.\n",
    "\n",
    "I know I'm in control of that too.\n",
    "\n",
    "\n",
    "\n",
    "So here's what's going to happen. I ask myself three questions in my learning evaluation for the day.\n",
    "\n",
    "What went well?\n",
    "\n",
    "What didn't go so well?\n",
    "\n",
    "What to change to make it better next time?\n",
    "\n",
    "<!---three questions my client needs to ask themselves-->\n",
    "\n",
    "1) What went well?\n",
    "\n",
    "    Well I tried to actually code today. Even a few times. I normally do quite a bit of coding on the weekdays and not on the weekends so that's a huge win \n",
    "    \n",
    "<!-- I'm usually more open about this but I really just want to cater to the nerds who read comments like me. I have pretty severe depression and anxiety so days that I actually START something is a huge success. I might write more about this outside of html comments at some point but I don't see why it's necessary at present -->\n",
    "\n",
    "2) What didn't go so well?\n",
    "\n",
    "    I ran down the rabbit hole and sometimes it's a good chase but this time it was unnessary and I think some sort of self-created distraction of sorts.\n",
    "    \n",
    "\n",
    "3) What to change to make it better next time?\n",
    "\n",
    "    I think starting off in a environment that already has all the bells and whistles for next time would be a great first step but in all honesty, this not-having-the-right-stuff-installed problem hasn't been one for me in awhile so I do not know what's caused it. \n",
    "    \n",
    "    Also I should have started coding a little earlier in the day. I started coding late tonight and that's why I eventually quit trying to find a solution (which I didn't need) and didn't pivot to using an environment that would just work right off the bat. Also, if I had started earlier, I may have dove straight into fixing the issue as well.\n",
    "    \n",
    "<!-- honestly I spent most the day avoiding coding. I don't know why. Another depression thing is that you avoid things that you know will help put you in a better mood. It's a circle and circles are never ending, the key is to breaking that circle. I did get out of the house today though and that's a huge win --> \n",
    "    \n",
    "So that's about it. \n",
    "\n",
    "Let me know what you think.\n",
    "<!--if you're reading these please dm me or something. it would be nice to know you're out there-->"
   ]
  },
  {
   "cell_type": "markdown",
   "metadata": {},
   "source": [
    "# see ya later day 12"
   ]
  }
 ],
 "metadata": {
  "kernelspec": {
   "display_name": "Python 3",
   "language": "python",
   "name": "python3"
  },
  "language_info": {
   "codemirror_mode": {
    "name": "ipython",
    "version": 3
   },
   "file_extension": ".py",
   "mimetype": "text/x-python",
   "name": "python",
   "nbconvert_exporter": "python",
   "pygments_lexer": "ipython3",
   "version": "3.7.3"
  }
 },
 "nbformat": 4,
 "nbformat_minor": 2
}
