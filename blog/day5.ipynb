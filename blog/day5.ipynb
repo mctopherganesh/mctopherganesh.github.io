{
 "cells": [
  {
   "cell_type": "markdown",
   "metadata": {},
   "source": [
    "guess what we're going to do today. \n",
    "\n",
    "I found a list of standard library things and I'm going to import them and see what they might do. I might actually get bored of this because there are a lot. You'll be learning a lot, I'll be learning a lot. I'm using the phrase 'a lot' a lot. What could go wrong?\n",
    "\n",
    "\n",
    "\n",
    "It's 2019-07-28 00:17:26.844698 and welcome to \n",
    "\n",
    "# Day 5\n",
    "\n",
    "_sometimes the blog post comes after the day, that's just how it be_"
   ]
  },
  {
   "cell_type": "markdown",
   "metadata": {},
   "source": [
    "what is the standard library? Great question.\n",
    "\n",
    "Python, the programming language I use is packed full of fun things right off the bat. On my other posts you may see \"import\" at some point. That's importing some files of code that I don't have. I can then use that pile of code in my own workflow.\n",
    "\n",
    "It's like this. You're at a crafts person's table. It's your table. It's really dope. You have all of these tools but you need a hammer. You always keep the really good hammer in the garage though. \n",
    "\n",
    "So you must import it. (not saying here that you \"export\" things ever, only saying what I'm saying). \n",
    "\n",
    "`import hammer`\n",
    "\n",
    "now you can use the hammer on things.\n",
    "\n",
    "`hammer = Hammer()`\n",
    "\n",
    "`nail = 'nail'`\n",
    "\n",
    "`nail.hammer`\n",
    "\n",
    "Try running that code.\n",
    "\n",
    "Tell me what happens."
   ]
  },
  {
   "cell_type": "markdown",
   "metadata": {},
   "source": [
    "Super bad analogy"
   ]
  },
  {
   "cell_type": "code",
   "execution_count": 1,
   "metadata": {},
   "outputs": [],
   "source": [
    "import atexit"
   ]
  },
  {
   "cell_type": "code",
   "execution_count": 52,
   "metadata": {},
   "outputs": [
    {
     "name": "stdout",
     "output_type": "stream",
     "text": [
      "allow programmer to define multiple exit functions to be executedupon normal program termination.\n",
      "\n",
      "Two public functions, register and unregister, are defined.\n",
      "\n"
     ]
    }
   ],
   "source": [
    "print(atexit.__doc__) "
   ]
  },
  {
   "cell_type": "code",
   "execution_count": 53,
   "metadata": {},
   "outputs": [],
   "source": [
    "# wow, isn't that neat? (great spelling too) look how easy it is to learn about stuff. that is some good documentation too.\n",
    "\n",
    "# I am just going to literally print all of these out and read them for me. So you don't have to stay.\n",
    "\n",
    "test_exit = atexit"
   ]
  },
  {
   "cell_type": "code",
   "execution_count": 12,
   "metadata": {},
   "outputs": [
    {
     "data": {
      "text/plain": [
       "<module 'atexit' (built-in)>"
      ]
     },
     "execution_count": 12,
     "metadata": {},
     "output_type": "execute_result"
    }
   ],
   "source": [
    "test_exit"
   ]
  },
  {
   "cell_type": "code",
   "execution_count": 15,
   "metadata": {},
   "outputs": [
    {
     "name": "stdout",
     "output_type": "stream",
     "text": [
      "register(func, *args, **kwargs) -> func\n",
      "\n",
      "Register a function to be executed upon normal program termination\n",
      "\n",
      "    func - function to be called at exit\n",
      "    args - optional arguments to pass to func\n",
      "    kwargs - optional keyword arguments to pass to func\n",
      "\n",
      "    func is returned to facilitate usage as a decorator.\n"
     ]
    }
   ],
   "source": [
    "print(atexit.register.__doc__)"
   ]
  },
  {
   "cell_type": "markdown",
   "metadata": {},
   "source": [
    "```python\n",
    "from atexit import register\n",
    "\n",
    "def easy_funk():\n",
    "    print('hello cruel world')\n",
    "\n",
    "test_decorator=register(easy_funk)\n",
    "print('test string')\n",
    "\n",
    "\n",
    "# this import prints something on end of program execution\n",
    "\n",
    "```\n",
    "\n",
    "this little script I wrote to test out the atexit module and ran it from the command line. it prints out:\n",
    "\n",
    "`hello cruel world`\n",
    "\n",
    "`test string`\n",
    "\n",
    "and the funny part was is that I didn't even call test_decorator. I just initialized it (this means it's only getting defined, the button isn't being pressed if that makes sense)"
   ]
  },
  {
   "cell_type": "markdown",
   "metadata": {},
   "source": [
    "oh my gosh there are so many. it's crazy. you should honestly try this out for me because I have a list that's a mile long. Just do what I did there. That works. Let me do one or two more to see what I have here."
   ]
  },
  {
   "cell_type": "code",
   "execution_count": 20,
   "metadata": {},
   "outputs": [
    {
     "data": {
      "text/plain": [
       "'Calendar printing functions\\n\\nNote when comparing these calendars to the ones printed by cal(1): By\\ndefault, these calendars have Monday as the first day of the week, and\\nSunday as the last (the European convention). Use setfirstweekday() to\\nset the first day of the week (0=Monday, 6=Sunday).'"
      ]
     },
     "execution_count": 20,
     "metadata": {},
     "output_type": "execute_result"
    }
   ],
   "source": [
    "import calendar\n",
    "\n",
    "calendar.__doc__"
   ]
  },
  {
   "cell_type": "markdown",
   "metadata": {},
   "source": [
    "uhhh how do I use it tho"
   ]
  },
  {
   "cell_type": "code",
   "execution_count": 21,
   "metadata": {},
   "outputs": [
    {
     "data": {
      "text/plain": [
       "2"
      ]
     },
     "execution_count": 21,
     "metadata": {},
     "output_type": "execute_result"
    }
   ],
   "source": [
    "calendar.February"
   ]
  },
  {
   "cell_type": "markdown",
   "metadata": {},
   "source": [
    "whoa\n",
    "\n",
    "so you have to know I work with jupyter notebooks (maybe you thought I was just dope at html but notice how ungreat my styling is. I can use shift+tab to see autofinish solutions. It's like seeing what other people have searched through google but **ALL** the options. \n",
    "\n",
    "it's all about the environment people. trust me."
   ]
  },
  {
   "cell_type": "markdown",
   "metadata": {},
   "source": [
    "this is serious. now I have to test all the things"
   ]
  },
  {
   "cell_type": "code",
   "execution_count": 24,
   "metadata": {},
   "outputs": [
    {
     "ename": "AttributeError",
     "evalue": "module 'calendar' has no attribute 'March'",
     "output_type": "error",
     "traceback": [
      "\u001b[0;31m---------------------------------------------------------------------------\u001b[0m",
      "\u001b[0;31mAttributeError\u001b[0m                            Traceback (most recent call last)",
      "\u001b[0;32m<ipython-input-24-62efdf796470>\u001b[0m in \u001b[0;36m<module>\u001b[0;34m\u001b[0m\n\u001b[1;32m      1\u001b[0m \u001b[0mcalendar\u001b[0m\u001b[0;34m.\u001b[0m\u001b[0mJanuary\u001b[0m\u001b[0;34m\u001b[0m\u001b[0;34m\u001b[0m\u001b[0m\n\u001b[1;32m      2\u001b[0m \u001b[0mcalendar\u001b[0m\u001b[0;34m.\u001b[0m\u001b[0mFebruary\u001b[0m\u001b[0;34m\u001b[0m\u001b[0;34m\u001b[0m\u001b[0m\n\u001b[0;32m----> 3\u001b[0;31m \u001b[0mcalendar\u001b[0m\u001b[0;34m.\u001b[0m\u001b[0mMarch\u001b[0m\u001b[0;34m\u001b[0m\u001b[0;34m\u001b[0m\u001b[0m\n\u001b[0m",
      "\u001b[0;31mAttributeError\u001b[0m: module 'calendar' has no attribute 'March'"
     ]
    }
   ],
   "source": [
    "calendar.January\n",
    "calendar.February\n",
    "calendar.March"
   ]
  },
  {
   "cell_type": "code",
   "execution_count": 25,
   "metadata": {},
   "outputs": [
    {
     "data": {
      "text/plain": [
       "2"
      ]
     },
     "execution_count": 25,
     "metadata": {},
     "output_type": "execute_result"
    }
   ],
   "source": [
    "calendar.January\n",
    "calendar.February"
   ]
  },
  {
   "cell_type": "markdown",
   "metadata": {},
   "source": [
    "uh weird... I don't see March in the functions."
   ]
  },
  {
   "cell_type": "markdown",
   "metadata": {},
   "source": [
    "oh dudes/people/whathaveyou here's a cool [tutorial](https://stackabuse.com/introduction-to-the-python-calendar-module/) on the thing"
   ]
  },
  {
   "cell_type": "markdown",
   "metadata": {},
   "source": [
    "[#testing-id](testing-id)"
   ]
  },
  {
   "cell_type": "code",
   "execution_count": 26,
   "metadata": {
    "scrolled": true
   },
   "outputs": [
    {
     "name": "stdout",
     "output_type": "stream",
     "text": [
      "<table border=\"0\" cellpadding=\"0\" cellspacing=\"0\" class=\"month\">\n",
      "<tr><th colspan=\"7\" class=\"month\">July 2019</th></tr>\n",
      "<tr><th class=\"mon\">Mon</th><th class=\"tue\">Tue</th><th class=\"wed\">Wed</th><th class=\"thu\">Thu</th><th class=\"fri\">Fri</th><th class=\"sat\">Sat</th><th class=\"sun\">Sun</th></tr>\n",
      "<tr><td class=\"mon\">1</td><td class=\"tue\">2</td><td class=\"wed\">3</td><td class=\"thu\">4</td><td class=\"fri\">5</td><td class=\"sat\">6</td><td class=\"sun\">7</td></tr>\n",
      "<tr><td class=\"mon\">8</td><td class=\"tue\">9</td><td class=\"wed\">10</td><td class=\"thu\">11</td><td class=\"fri\">12</td><td class=\"sat\">13</td><td class=\"sun\">14</td></tr>\n",
      "<tr><td class=\"mon\">15</td><td class=\"tue\">16</td><td class=\"wed\">17</td><td class=\"thu\">18</td><td class=\"fri\">19</td><td class=\"sat\">20</td><td class=\"sun\">21</td></tr>\n",
      "<tr><td class=\"mon\">22</td><td class=\"tue\">23</td><td class=\"wed\">24</td><td class=\"thu\">25</td><td class=\"fri\">26</td><td class=\"sat\">27</td><td class=\"sun\">28</td></tr>\n",
      "<tr><td class=\"mon\">29</td><td class=\"tue\">30</td><td class=\"wed\">31</td><td class=\"noday\">&nbsp;</td><td class=\"noday\">&nbsp;</td><td class=\"noday\">&nbsp;</td><td class=\"noday\">&nbsp;</td></tr>\n",
      "</table>\n",
      "\n"
     ]
    }
   ],
   "source": [
    "hc = calendar.HTMLCalendar()\n",
    "print(hc.formatmonth(2019, 7))"
   ]
  },
  {
   "cell_type": "markdown",
   "metadata": {},
   "source": [
    "<table border=\"0\" cellpadding=\"0\" cellspacing=\"0\" class=\"month\">\n",
    "<tr><th colspan=\"7\" class=\"month\">July 2019</th></tr>\n",
    "<tr><th class=\"mon\">Mon</th><th class=\"tue\">Tue</th><th class=\"wed\">Wed</th><th class=\"thu\">Thu</th><th class=\"fri\">Fri</th><th class=\"sat\">Sat</th><th class=\"sun\">Sun</th></tr>\n",
    "<tr><td class=\"mon\">1</td><td class=\"tue\">2</td><td class=\"wed\">3</td><td class=\"thu\">4</td><td class=\"fri\">5</td><td class=\"sat\">6</td><td class=\"sun\">7</td></tr>\n",
    "<tr><td class=\"mon\">8</td><td class=\"tue\">9</td><td class=\"wed\">10</td><td class=\"thu\">11</td><td class=\"fri\">12</td><td class=\"sat\">13</td><td class=\"sun\">14</td></tr>\n",
    "<tr><td class=\"mon\">15</td><td class=\"tue\">16</td><td class=\"wed\">17</td><td class=\"thu\">18</td><td class=\"fri\">19</td><td class=\"sat\">20</td><td class=\"sun\">21</td></tr>\n",
    "<tr><td class=\"mon\">22</td><td class=\"tue\">23</td><td class=\"wed\">24</td><td class=\"thu\">25</td><td class=\"fri\">26</td><td class=\"sat\">27</td><td class=\"sun\">28</td></tr>\n",
    "<tr><td class=\"mon\">29</td><td class=\"tue\">30</td><td class=\"wed\">31</td><td class=\"noday\">&nbsp;</td><td class=\"noday\">&nbsp;</td><td class=\"noday\">&nbsp;</td><td class=\"noday\">&nbsp;</td></tr>\n",
    "</table>"
   ]
  },
  {
   "cell_type": "markdown",
   "metadata": {},
   "source": [
    "The cool thing about Jupyter Notebook is that if you embed html in a markdown cell, you get it rendered. pretty neat huh?"
   ]
  },
  {
   "cell_type": "code",
   "execution_count": 57,
   "metadata": {},
   "outputs": [
    {
     "name": "stdout",
     "output_type": "stream",
     "text": [
      "Operator interface.\n",
      "\n",
      "This module exports a set of functions implemented in C corresponding\n",
      "to the intrinsic operators of Python.  For example, operator.add(x, y)\n",
      "is equivalent to the expression x+y.  The function names are those\n",
      "used for special methods; variants without leading and trailing\n",
      "'__' are also provided for convenience.\n"
     ]
    }
   ],
   "source": [
    "import operator\n",
    "\n",
    "print(operator.__doc__) # in all honesty I came back through and added this in places but doing this makes\n",
    "# more readable (by 'doing this' I mean calling the print function on the method doc)"
   ]
  },
  {
   "cell_type": "code",
   "execution_count": 58,
   "metadata": {},
   "outputs": [],
   "source": [
    "b = str(operator.add(5,4)) # saw that coming didn't ya"
   ]
  },
  {
   "cell_type": "markdown",
   "metadata": {},
   "source": [
    "hmm..saw that coming didn't ya?"
   ]
  },
  {
   "cell_type": "code",
   "execution_count": 59,
   "metadata": {},
   "outputs": [
    {
     "data": {
      "text/plain": [
       "'meow'"
      ]
     },
     "execution_count": 59,
     "metadata": {},
     "output_type": "execute_result"
    }
   ],
   "source": [
    "a = operator.concat('me','ow')\n",
    "a"
   ]
  },
  {
   "cell_type": "code",
   "execution_count": 43,
   "metadata": {},
   "outputs": [
    {
     "name": "stdout",
     "output_type": "stream",
     "text": [
      "attrgetter(attr, ...) --> attrgetter object\n",
      "\n",
      "Return a callable object that fetches the given attribute(s) from its operand.\n",
      "After f = attrgetter('name'), the call f(r) returns r.name.\n",
      "After g = attrgetter('name', 'date'), the call g(r) returns (r.name, r.date).\n",
      "After h = attrgetter('name.first', 'name.last'), the call h(r) returns\n",
      "(r.name.first, r.name.last).\n"
     ]
    }
   ],
   "source": [
    "print(operator.attrgetter.__doc__) # better to use print "
   ]
  },
  {
   "cell_type": "code",
   "execution_count": 60,
   "metadata": {},
   "outputs": [
    {
     "data": {
      "text/plain": [
       "operator.attrgetter('meow', '9')"
      ]
     },
     "execution_count": 60,
     "metadata": {},
     "output_type": "execute_result"
    }
   ],
   "source": [
    "f = operator.attrgetter(a,b)\n",
    "f # I turned b into a string later on. writing code in jupyter notebooks is like changing the course of history"
   ]
  },
  {
   "cell_type": "markdown",
   "metadata": {},
   "source": [
    "woah. freaky.\n",
    "\n",
    "Alright ya'll. I just showed anyone who has read this and can type into a python interpreter a crap ton about how to learn stuff. Honestly, if docs returns an error, you probably shouldn't use it. I'm a little intrigued to say the least about there note be a `.March` method in the `calendar` module so I'm definitely looking into that a little bit more. \n",
    "\n",
    "Peaches"
   ]
  }
 ],
 "metadata": {
  "kernelspec": {
   "display_name": "Python 3",
   "language": "python",
   "name": "python3"
  },
  "language_info": {
   "codemirror_mode": {
    "name": "ipython",
    "version": 3
   },
   "file_extension": ".py",
   "mimetype": "text/x-python",
   "name": "python",
   "nbconvert_exporter": "python",
   "pygments_lexer": "ipython3",
   "version": "3.7.3"
  }
 },
 "nbformat": 4,
 "nbformat_minor": 2
}
