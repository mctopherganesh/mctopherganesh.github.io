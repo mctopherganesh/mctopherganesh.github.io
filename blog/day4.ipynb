{
 "cells": [
  {
   "cell_type": "markdown",
   "metadata": {},
   "source": [
    "alright doody.\n",
    "\n",
    "i think i got it\n",
    "\n"
   ]
  },
  {
   "cell_type": "code",
   "execution_count": 1,
   "metadata": {},
   "outputs": [],
   "source": [
    "!subl create.py"
   ]
  },
  {
   "cell_type": "markdown",
   "metadata": {},
   "source": [
    "alrighty right boom."
   ]
  },
  {
   "cell_type": "code",
   "execution_count": 1,
   "metadata": {},
   "outputs": [],
   "source": [
    "import dt"
   ]
  },
  {
   "cell_type": "code",
   "execution_count": 10,
   "metadata": {},
   "outputs": [
    {
     "name": "stdout",
     "output_type": "stream",
     "text": [
      "<module 'dt' from '/home/christopher/dt.py'>\n"
     ]
    }
   ],
   "source": [
    "print(dt)"
   ]
  },
  {
   "cell_type": "code",
   "execution_count": 5,
   "metadata": {},
   "outputs": [
    {
     "data": {
      "text/plain": [
       "<map at 0x7f9fec3892b0>"
      ]
     },
     "execution_count": 5,
     "metadata": {},
     "output_type": "execute_result"
    }
   ],
   "source": [
    "map(dt,[1]) # look, up here."
   ]
  },
  {
   "cell_type": "markdown",
   "metadata": {},
   "source": [
    "2019-07-26 16:41:04.586424\n",
    "\n",
    "YO. Let's go. Welcome to \n",
    "\n",
    "# Day 4 \n",
    "(imagine dope intro music playing to this, maybe I can  make that happen soon - something between [this](https://www.youtube.com/watch?v=hicayypkI7g), [this](https://www.youtube.com/watch?v=yydZbVoCbn0), and [this](https://www.youtube.com/watch?v=evf-U8he-6o). Please don't listen to all of those three together unless you have a buddy around to supervise your scary but amazing transformation into something darkly twisted and surreal. \n",
    "\n",
    "Just kidding. \n",
    "\n",
    "do you, you devil.\n",
    "\n",
    "\n",
    "what's happening up there? (above the title there with the hash tag comment..) I'm using map on a thingy I imported and then the time is at the beginning of this post.\n",
    "\n",
    "what is map? it's a function, that run's functions a specified amount of times. That might not makes sense but I'll walk through it anyway.\n",
    "\n",
    "\n",
    "`import dt` bringing in my code.\n",
    "`print(dt)` because I forgot that I wrote this function to be called from the command line so all it does is\n",
    "print the module's locaiton in memory\n",
    "`map(dt,[1])` this runs the function, and runs it once. don't know why it has to be in a list. I'm sure theres a super good reason though.\n",
    "\n",
    "dt copies the date and time into my clip board. then I can hit `ctrl-v` and it just prints out. I have to run it in my terminal though. I obviously didn't get to extend it. This is actually what I spent part of my day on yesterday. What I didn't realize when I was writing that post is that I only spent part of the day actually being stuck on something. I wasn't working the whole day on it but sometimes when you get stuck by one thing it seems like you're getting stuck by a bunch more.\n",
    "\n",
    "I had actually biked to the library yesterday and forgot my lock. It was a super bummber because I seriously do not ever leave my bike unlocked anywhere. Never ever. Once you have your bike stolen and are not able to make it to work or class on time then you'll understand but maybe think if your car got stolen. \n",
    "\n",
    "Yeah so I was a bit frustrated with myself. I didn't even realize I didn't have the lock until I was standing at the bike rack. I had been focused on bringing all of these other things I thought I was going to study. However, I ended up finding a place I could park my bike and keep an eye on it while coding. \n",
    "\n",
    "There happened to be a veterens concert going on too so I got to hear a good tune while I was tip tapping away, creating debugging issues for myself.\n",
    "\n",
    "Here's what I wanted to write about when I first sat down to originally write this kids.\n",
    "\n",
    "There's no one golden resource that will teach you how to code. There is no way you can learn to code by asking anyone else how they learned how to code. You have to just do it. I don't intend negative attitude or connotations when I say fail and fail fast. Fail as fast as you can. The reason I've ever learned how to build a program that worked is because of errors. I would have never looked up the next thing on Google. These days where you think you've spent hours reading documentation and minutes coding are great days! You have done good work these days. But do not put your faith into one resource. You must be _doing_ it. No one can teach you. Coding is like painting. You can hang with B Ross and watch him paint things. Or you can do it with him (I really hope most people paint with him). \n",
    "\n",
    "I'm working on a lot of things right now. I just wanted to put that out there. So much exciting stuff though. I am super stoked to be doing #100daysofcode again."
   ]
  }
 ],
 "metadata": {
  "kernelspec": {
   "display_name": "Python 3",
   "language": "python",
   "name": "python3"
  },
  "language_info": {
   "codemirror_mode": {
    "name": "ipython",
    "version": 3
   },
   "file_extension": ".py",
   "mimetype": "text/x-python",
   "name": "python",
   "nbconvert_exporter": "python",
   "pygments_lexer": "ipython3",
   "version": "3.7.3"
  }
 },
 "nbformat": 4,
 "nbformat_minor": 2
}
