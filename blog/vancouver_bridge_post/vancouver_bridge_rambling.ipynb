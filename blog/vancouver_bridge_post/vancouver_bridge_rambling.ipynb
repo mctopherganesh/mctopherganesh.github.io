{
 "cells": [
  {
   "cell_type": "code",
   "execution_count": 1,
   "metadata": {},
   "outputs": [
    {
     "name": "stdout",
     "output_type": "stream",
     "text": [
      "Wed Dec 11 05:04:58 CST 2019\r\n"
     ]
    }
   ],
   "source": [
    "!date"
   ]
  },
  {
   "cell_type": "markdown",
   "metadata": {},
   "source": [
    "first things first, [here's the link to the data] (http://former.vancouver.ca/projects/burrard/statistics.htm#Measuring).\n",
    "\n",
    "second things second. "
   ]
  },
  {
   "cell_type": "code",
   "execution_count": 5,
   "metadata": {},
   "outputs": [],
   "source": [
    "import pandas as pd"
   ]
  },
  {
   "cell_type": "code",
   "execution_count": 13,
   "metadata": {},
   "outputs": [],
   "source": [
    "bridge_stats = pd.read_csv('vancouver_bridge_stats.csv')"
   ]
  },
  {
   "cell_type": "code",
   "execution_count": 14,
   "metadata": {},
   "outputs": [
    {
     "data": {
      "text/html": [
       "<div>\n",
       "<style scoped>\n",
       "    .dataframe tbody tr th:only-of-type {\n",
       "        vertical-align: middle;\n",
       "    }\n",
       "\n",
       "    .dataframe tbody tr th {\n",
       "        vertical-align: top;\n",
       "    }\n",
       "\n",
       "    .dataframe thead th {\n",
       "        text-align: right;\n",
       "    }\n",
       "</style>\n",
       "<table border=\"1\" class=\"dataframe\">\n",
       "  <thead>\n",
       "    <tr style=\"text-align: right;\">\n",
       "      <th></th>\n",
       "      <th>date</th>\n",
       "      <th>comments</th>\n",
       "      <th>northbound pedestrians</th>\n",
       "      <th>southbound pedestrians</th>\n",
       "      <th>total pedestrians</th>\n",
       "      <th>northbound bicycles</th>\n",
       "      <th>southbound bicycles</th>\n",
       "      <th>total bicycles</th>\n",
       "      <th>northbound vehicles</th>\n",
       "      <th>southbound vehicles</th>\n",
       "      <th>total vehicles</th>\n",
       "    </tr>\n",
       "  </thead>\n",
       "  <tbody>\n",
       "    <tr>\n",
       "      <th>0</th>\n",
       "      <td>June 1, 2009</td>\n",
       "      <td>NaN</td>\n",
       "      <td>NaN</td>\n",
       "      <td>NaN</td>\n",
       "      <td>NaN</td>\n",
       "      <td>NaN</td>\n",
       "      <td>NaN</td>\n",
       "      <td>NaN</td>\n",
       "      <td>31,541</td>\n",
       "      <td>34,811</td>\n",
       "      <td>66,352</td>\n",
       "    </tr>\n",
       "    <tr>\n",
       "      <th>1</th>\n",
       "      <td>June 2, 2009</td>\n",
       "      <td>NaN</td>\n",
       "      <td>NaN</td>\n",
       "      <td>NaN</td>\n",
       "      <td>NaN</td>\n",
       "      <td>NaN</td>\n",
       "      <td>NaN</td>\n",
       "      <td>NaN</td>\n",
       "      <td>33,141</td>\n",
       "      <td>35,670</td>\n",
       "      <td>68,811</td>\n",
       "    </tr>\n",
       "    <tr>\n",
       "      <th>2</th>\n",
       "      <td>June 3, 2009</td>\n",
       "      <td>NaN</td>\n",
       "      <td>NaN</td>\n",
       "      <td>NaN</td>\n",
       "      <td>NaN</td>\n",
       "      <td>NaN</td>\n",
       "      <td>NaN</td>\n",
       "      <td>NaN</td>\n",
       "      <td>34,045</td>\n",
       "      <td>37,060</td>\n",
       "      <td>71,105</td>\n",
       "    </tr>\n",
       "    <tr>\n",
       "      <th>3</th>\n",
       "      <td>June 4, 2009</td>\n",
       "      <td>NaN</td>\n",
       "      <td>NaN</td>\n",
       "      <td>NaN</td>\n",
       "      <td>NaN</td>\n",
       "      <td>NaN</td>\n",
       "      <td>NaN</td>\n",
       "      <td>NaN</td>\n",
       "      <td>NaN</td>\n",
       "      <td>NaN</td>\n",
       "      <td>NaN</td>\n",
       "    </tr>\n",
       "    <tr>\n",
       "      <th>4</th>\n",
       "      <td>June 5, 2009</td>\n",
       "      <td>NaN</td>\n",
       "      <td>NaN</td>\n",
       "      <td>NaN</td>\n",
       "      <td>NaN</td>\n",
       "      <td>NaN</td>\n",
       "      <td>NaN</td>\n",
       "      <td>NaN</td>\n",
       "      <td>35,393</td>\n",
       "      <td>37,823</td>\n",
       "      <td>73,216</td>\n",
       "    </tr>\n",
       "  </tbody>\n",
       "</table>\n",
       "</div>"
      ],
      "text/plain": [
       "           date comments northbound pedestrians southbound pedestrians  \\\n",
       "0  June 1, 2009      NaN                    NaN                    NaN   \n",
       "1  June 2, 2009      NaN                    NaN                    NaN   \n",
       "2  June 3, 2009      NaN                    NaN                    NaN   \n",
       "3  June 4, 2009      NaN                    NaN                    NaN   \n",
       "4  June 5, 2009      NaN                    NaN                    NaN   \n",
       "\n",
       "  total pedestrians northbound bicycles southbound bicycles total bicycles  \\\n",
       "0               NaN                 NaN                 NaN            NaN   \n",
       "1               NaN                 NaN                 NaN            NaN   \n",
       "2               NaN                 NaN                 NaN            NaN   \n",
       "3               NaN                 NaN                 NaN            NaN   \n",
       "4               NaN                 NaN                 NaN            NaN   \n",
       "\n",
       "  northbound vehicles southbound vehicles total vehicles  \n",
       "0              31,541              34,811         66,352  \n",
       "1              33,141              35,670         68,811  \n",
       "2              34,045              37,060         71,105  \n",
       "3                 NaN                 NaN            NaN  \n",
       "4              35,393              37,823         73,216  "
      ]
     },
     "execution_count": 14,
     "metadata": {},
     "output_type": "execute_result"
    }
   ],
   "source": [
    "bridge_stats.head()"
   ]
  },
  {
   "cell_type": "markdown",
   "metadata": {},
   "source": [
    "sick nasty, it already filled in all the empty values with NaN"
   ]
  },
  {
   "cell_type": "code",
   "execution_count": 33,
   "metadata": {},
   "outputs": [],
   "source": [
    "comma_cols = bridge_stats.columns[2:]"
   ]
  },
  {
   "cell_type": "code",
   "execution_count": 48,
   "metadata": {},
   "outputs": [],
   "source": [
    "def just_wanna_make_you_comma():\n",
    "    for i in comma_cols:\n",
    "        bridge_stats[i] = bridge_stats[i].str.replace(',','')\n",
    "        \n",
    "# don't write functions at home like this kids"
   ]
  },
  {
   "cell_type": "code",
   "execution_count": 50,
   "metadata": {},
   "outputs": [],
   "source": [
    "just_wanna_make_you_comma() # hey ya by outkast anyone?"
   ]
  },
  {
   "cell_type": "code",
   "execution_count": 51,
   "metadata": {},
   "outputs": [
    {
     "data": {
      "text/html": [
       "<div>\n",
       "<style scoped>\n",
       "    .dataframe tbody tr th:only-of-type {\n",
       "        vertical-align: middle;\n",
       "    }\n",
       "\n",
       "    .dataframe tbody tr th {\n",
       "        vertical-align: top;\n",
       "    }\n",
       "\n",
       "    .dataframe thead th {\n",
       "        text-align: right;\n",
       "    }\n",
       "</style>\n",
       "<table border=\"1\" class=\"dataframe\">\n",
       "  <thead>\n",
       "    <tr style=\"text-align: right;\">\n",
       "      <th></th>\n",
       "      <th>date</th>\n",
       "      <th>comments</th>\n",
       "      <th>northbound pedestrians</th>\n",
       "      <th>southbound pedestrians</th>\n",
       "      <th>total pedestrians</th>\n",
       "      <th>northbound bicycles</th>\n",
       "      <th>southbound bicycles</th>\n",
       "      <th>total bicycles</th>\n",
       "      <th>northbound vehicles</th>\n",
       "      <th>southbound vehicles</th>\n",
       "      <th>total vehicles</th>\n",
       "    </tr>\n",
       "  </thead>\n",
       "  <tbody>\n",
       "    <tr>\n",
       "      <th>0</th>\n",
       "      <td>June 1, 2009</td>\n",
       "      <td>NaN</td>\n",
       "      <td>NaN</td>\n",
       "      <td>NaN</td>\n",
       "      <td>NaN</td>\n",
       "      <td>NaN</td>\n",
       "      <td>NaN</td>\n",
       "      <td>NaN</td>\n",
       "      <td>31541</td>\n",
       "      <td>34811</td>\n",
       "      <td>66352</td>\n",
       "    </tr>\n",
       "    <tr>\n",
       "      <th>1</th>\n",
       "      <td>June 2, 2009</td>\n",
       "      <td>NaN</td>\n",
       "      <td>NaN</td>\n",
       "      <td>NaN</td>\n",
       "      <td>NaN</td>\n",
       "      <td>NaN</td>\n",
       "      <td>NaN</td>\n",
       "      <td>NaN</td>\n",
       "      <td>33141</td>\n",
       "      <td>35670</td>\n",
       "      <td>68811</td>\n",
       "    </tr>\n",
       "    <tr>\n",
       "      <th>2</th>\n",
       "      <td>June 3, 2009</td>\n",
       "      <td>NaN</td>\n",
       "      <td>NaN</td>\n",
       "      <td>NaN</td>\n",
       "      <td>NaN</td>\n",
       "      <td>NaN</td>\n",
       "      <td>NaN</td>\n",
       "      <td>NaN</td>\n",
       "      <td>34045</td>\n",
       "      <td>37060</td>\n",
       "      <td>71105</td>\n",
       "    </tr>\n",
       "    <tr>\n",
       "      <th>3</th>\n",
       "      <td>June 4, 2009</td>\n",
       "      <td>NaN</td>\n",
       "      <td>NaN</td>\n",
       "      <td>NaN</td>\n",
       "      <td>NaN</td>\n",
       "      <td>NaN</td>\n",
       "      <td>NaN</td>\n",
       "      <td>NaN</td>\n",
       "      <td>NaN</td>\n",
       "      <td>NaN</td>\n",
       "      <td>NaN</td>\n",
       "    </tr>\n",
       "    <tr>\n",
       "      <th>4</th>\n",
       "      <td>June 5, 2009</td>\n",
       "      <td>NaN</td>\n",
       "      <td>NaN</td>\n",
       "      <td>NaN</td>\n",
       "      <td>NaN</td>\n",
       "      <td>NaN</td>\n",
       "      <td>NaN</td>\n",
       "      <td>NaN</td>\n",
       "      <td>35393</td>\n",
       "      <td>37823</td>\n",
       "      <td>73216</td>\n",
       "    </tr>\n",
       "  </tbody>\n",
       "</table>\n",
       "</div>"
      ],
      "text/plain": [
       "           date comments northbound pedestrians southbound pedestrians  \\\n",
       "0  June 1, 2009      NaN                    NaN                    NaN   \n",
       "1  June 2, 2009      NaN                    NaN                    NaN   \n",
       "2  June 3, 2009      NaN                    NaN                    NaN   \n",
       "3  June 4, 2009      NaN                    NaN                    NaN   \n",
       "4  June 5, 2009      NaN                    NaN                    NaN   \n",
       "\n",
       "  total pedestrians northbound bicycles southbound bicycles total bicycles  \\\n",
       "0               NaN                 NaN                 NaN            NaN   \n",
       "1               NaN                 NaN                 NaN            NaN   \n",
       "2               NaN                 NaN                 NaN            NaN   \n",
       "3               NaN                 NaN                 NaN            NaN   \n",
       "4               NaN                 NaN                 NaN            NaN   \n",
       "\n",
       "  northbound vehicles southbound vehicles total vehicles  \n",
       "0               31541               34811          66352  \n",
       "1               33141               35670          68811  \n",
       "2               34045               37060          71105  \n",
       "3                 NaN                 NaN            NaN  \n",
       "4               35393               37823          73216  "
      ]
     },
     "execution_count": 51,
     "metadata": {},
     "output_type": "execute_result"
    }
   ],
   "source": [
    "bridge_stats.head()"
   ]
  },
  {
   "cell_type": "code",
   "execution_count": 52,
   "metadata": {},
   "outputs": [
    {
     "data": {
      "text/html": [
       "<div>\n",
       "<style scoped>\n",
       "    .dataframe tbody tr th:only-of-type {\n",
       "        vertical-align: middle;\n",
       "    }\n",
       "\n",
       "    .dataframe tbody tr th {\n",
       "        vertical-align: top;\n",
       "    }\n",
       "\n",
       "    .dataframe thead th {\n",
       "        text-align: right;\n",
       "    }\n",
       "</style>\n",
       "<table border=\"1\" class=\"dataframe\">\n",
       "  <thead>\n",
       "    <tr style=\"text-align: right;\">\n",
       "      <th></th>\n",
       "      <th>date</th>\n",
       "      <th>comments</th>\n",
       "      <th>northbound pedestrians</th>\n",
       "      <th>southbound pedestrians</th>\n",
       "      <th>total pedestrians</th>\n",
       "      <th>northbound bicycles</th>\n",
       "      <th>southbound bicycles</th>\n",
       "      <th>total bicycles</th>\n",
       "      <th>northbound vehicles</th>\n",
       "      <th>southbound vehicles</th>\n",
       "      <th>total vehicles</th>\n",
       "    </tr>\n",
       "  </thead>\n",
       "  <tbody>\n",
       "    <tr>\n",
       "      <th>30</th>\n",
       "      <td>July 1, 2009</td>\n",
       "      <td>Canada Day</td>\n",
       "      <td>1983</td>\n",
       "      <td>1933</td>\n",
       "      <td>3916</td>\n",
       "      <td>2635</td>\n",
       "      <td>2627</td>\n",
       "      <td>5262</td>\n",
       "      <td>27158</td>\n",
       "      <td>30076</td>\n",
       "      <td>57234</td>\n",
       "    </tr>\n",
       "    <tr>\n",
       "      <th>31</th>\n",
       "      <td>July 2, 2009</td>\n",
       "      <td>NaN</td>\n",
       "      <td>1428</td>\n",
       "      <td>1475</td>\n",
       "      <td>2903</td>\n",
       "      <td>2223</td>\n",
       "      <td>2118</td>\n",
       "      <td>4342</td>\n",
       "      <td>32766</td>\n",
       "      <td>35272</td>\n",
       "      <td>68038</td>\n",
       "    </tr>\n",
       "    <tr>\n",
       "      <th>32</th>\n",
       "      <td>July 3, 2009</td>\n",
       "      <td>NaN</td>\n",
       "      <td>1291</td>\n",
       "      <td>1392</td>\n",
       "      <td>2683</td>\n",
       "      <td>2236</td>\n",
       "      <td>2081</td>\n",
       "      <td>4317</td>\n",
       "      <td>32228</td>\n",
       "      <td>34517</td>\n",
       "      <td>66745</td>\n",
       "    </tr>\n",
       "    <tr>\n",
       "      <th>33</th>\n",
       "      <td>July 4, 2009</td>\n",
       "      <td>NaN</td>\n",
       "      <td>1322</td>\n",
       "      <td>1208</td>\n",
       "      <td>2530</td>\n",
       "      <td>2283</td>\n",
       "      <td>2280</td>\n",
       "      <td>4563</td>\n",
       "      <td>29252</td>\n",
       "      <td>31475</td>\n",
       "      <td>60727</td>\n",
       "    </tr>\n",
       "    <tr>\n",
       "      <th>34</th>\n",
       "      <td>July 5, 2009</td>\n",
       "      <td>NaN</td>\n",
       "      <td>1214</td>\n",
       "      <td>1070</td>\n",
       "      <td>2284</td>\n",
       "      <td>1765</td>\n",
       "      <td>1934</td>\n",
       "      <td>3700</td>\n",
       "      <td>NaN</td>\n",
       "      <td>NaN</td>\n",
       "      <td>NaN</td>\n",
       "    </tr>\n",
       "    <tr>\n",
       "      <th>35</th>\n",
       "      <td>July 6, 2009</td>\n",
       "      <td>NaN</td>\n",
       "      <td>868</td>\n",
       "      <td>947</td>\n",
       "      <td>1815</td>\n",
       "      <td>1186</td>\n",
       "      <td>1290</td>\n",
       "      <td>2476</td>\n",
       "      <td>29345</td>\n",
       "      <td>31983</td>\n",
       "      <td>61328</td>\n",
       "    </tr>\n",
       "    <tr>\n",
       "      <th>36</th>\n",
       "      <td>July 7, 2009</td>\n",
       "      <td>NaN</td>\n",
       "      <td>752</td>\n",
       "      <td>802</td>\n",
       "      <td>1554</td>\n",
       "      <td>1016</td>\n",
       "      <td>1049</td>\n",
       "      <td>2065</td>\n",
       "      <td>31396</td>\n",
       "      <td>33728</td>\n",
       "      <td>65124</td>\n",
       "    </tr>\n",
       "    <tr>\n",
       "      <th>37</th>\n",
       "      <td>July 8, 2009</td>\n",
       "      <td>NaN</td>\n",
       "      <td>1089</td>\n",
       "      <td>1086</td>\n",
       "      <td>2175</td>\n",
       "      <td>1082</td>\n",
       "      <td>1232</td>\n",
       "      <td>2314</td>\n",
       "      <td>32667</td>\n",
       "      <td>35460</td>\n",
       "      <td>68127</td>\n",
       "    </tr>\n",
       "    <tr>\n",
       "      <th>38</th>\n",
       "      <td>July 9, 2009</td>\n",
       "      <td>NaN</td>\n",
       "      <td>1421</td>\n",
       "      <td>1268</td>\n",
       "      <td>2689</td>\n",
       "      <td>2223</td>\n",
       "      <td>2295</td>\n",
       "      <td>4519</td>\n",
       "      <td>33187</td>\n",
       "      <td>35615</td>\n",
       "      <td>68802</td>\n",
       "    </tr>\n",
       "    <tr>\n",
       "      <th>39</th>\n",
       "      <td>July 10, 2009</td>\n",
       "      <td>NaN</td>\n",
       "      <td>1365</td>\n",
       "      <td>1328</td>\n",
       "      <td>2693</td>\n",
       "      <td>2267</td>\n",
       "      <td>2113</td>\n",
       "      <td>4380</td>\n",
       "      <td>32711</td>\n",
       "      <td>33143</td>\n",
       "      <td>65854</td>\n",
       "    </tr>\n",
       "  </tbody>\n",
       "</table>\n",
       "</div>"
      ],
      "text/plain": [
       "             date    comments northbound pedestrians southbound pedestrians  \\\n",
       "30   July 1, 2009  Canada Day                   1983                   1933   \n",
       "31   July 2, 2009         NaN                   1428                   1475   \n",
       "32   July 3, 2009         NaN                   1291                   1392   \n",
       "33   July 4, 2009         NaN                   1322                   1208   \n",
       "34   July 5, 2009         NaN                   1214                   1070   \n",
       "35   July 6, 2009         NaN                    868                    947   \n",
       "36   July 7, 2009         NaN                    752                    802   \n",
       "37   July 8, 2009         NaN                   1089                   1086   \n",
       "38   July 9, 2009         NaN                   1421                   1268   \n",
       "39  July 10, 2009         NaN                   1365                   1328   \n",
       "\n",
       "   total pedestrians northbound bicycles southbound bicycles total bicycles  \\\n",
       "30              3916                2635                2627           5262   \n",
       "31              2903                2223                2118           4342   \n",
       "32              2683                2236                2081           4317   \n",
       "33              2530                2283                2280           4563   \n",
       "34              2284                1765                1934           3700   \n",
       "35              1815                1186                1290           2476   \n",
       "36              1554                1016                1049           2065   \n",
       "37              2175                1082                1232           2314   \n",
       "38              2689                2223                2295           4519   \n",
       "39              2693                2267                2113           4380   \n",
       "\n",
       "   northbound vehicles southbound vehicles total vehicles  \n",
       "30               27158               30076          57234  \n",
       "31               32766               35272          68038  \n",
       "32               32228               34517          66745  \n",
       "33               29252               31475          60727  \n",
       "34                 NaN                 NaN            NaN  \n",
       "35               29345               31983          61328  \n",
       "36               31396               33728          65124  \n",
       "37               32667               35460          68127  \n",
       "38               33187               35615          68802  \n",
       "39               32711               33143          65854  "
      ]
     },
     "execution_count": 52,
     "metadata": {},
     "output_type": "execute_result"
    }
   ],
   "source": [
    "bridge_stats[30:40]"
   ]
  },
  {
   "cell_type": "markdown",
   "metadata": {},
   "source": [
    "that cheeky function worked."
   ]
  },
  {
   "cell_type": "code",
   "execution_count": 47,
   "metadata": {},
   "outputs": [],
   "source": [
    "num_cols = comma_cols # so i remember wtf i'm doing"
   ]
  },
  {
   "cell_type": "code",
   "execution_count": 57,
   "metadata": {},
   "outputs": [],
   "source": [
    "def it_all_floats_on():\n",
    "    for i in num_cols:\n",
    "        bridge_stats[i] = bridge_stats[i].astype(float)"
   ]
  },
  {
   "cell_type": "code",
   "execution_count": 58,
   "metadata": {},
   "outputs": [],
   "source": [
    "it_all_floats_on() # crafting dirty functions isn't modest. it's just dirty."
   ]
  },
  {
   "cell_type": "code",
   "execution_count": 60,
   "metadata": {},
   "outputs": [
    {
     "data": {
      "text/plain": [
       "dtype('float64')"
      ]
     },
     "execution_count": 60,
     "metadata": {},
     "output_type": "execute_result"
    }
   ],
   "source": [
    "bridge_stats['northbound vehicles'][:10].dtype"
   ]
  },
  {
   "cell_type": "markdown",
   "metadata": {},
   "source": [
    "ayyy i'm that dude writing just the dirtiest code"
   ]
  },
  {
   "cell_type": "code",
   "execution_count": 61,
   "metadata": {},
   "outputs": [
    {
     "data": {
      "text/plain": [
       "524951.0"
      ]
     },
     "execution_count": 61,
     "metadata": {},
     "output_type": "execute_result"
    }
   ],
   "source": [
    "bridge_stats['northbound pedestrians'].sum()"
   ]
  },
  {
   "cell_type": "code",
   "execution_count": 62,
   "metadata": {},
   "outputs": [
    {
     "data": {
      "text/plain": [
       "583204.0"
      ]
     },
     "execution_count": 62,
     "metadata": {},
     "output_type": "execute_result"
    }
   ],
   "source": [
    "bridge_stats['southbound pedestrians'].sum()"
   ]
  },
  {
   "cell_type": "code",
   "execution_count": 64,
   "metadata": {},
   "outputs": [
    {
     "data": {
      "text/plain": [
       "[796781.0, 832275.0]"
      ]
     },
     "execution_count": 64,
     "metadata": {},
     "output_type": "execute_result"
    }
   ],
   "source": [
    "[bridge_stats['northbound bicycles'].sum(), bridge_stats['southbound bicycles'].sum()]"
   ]
  },
  {
   "cell_type": "code",
   "execution_count": 66,
   "metadata": {},
   "outputs": [
    {
     "data": {
      "text/plain": [
       "[14667784.0, 15624684.0]"
      ]
     },
     "execution_count": 66,
     "metadata": {},
     "output_type": "execute_result"
    }
   ],
   "source": [
    "[bridge_stats['northbound vehicles'].sum(),bridge_stats['southbound vehicles'].sum()]"
   ]
  },
  {
   "cell_type": "markdown",
   "metadata": {},
   "source": [
    "![foot traffic](Selection_817.png)![bicycle traffic](Selection_818.png)![vehicle traffic](Selection_819.png)"
   ]
  },
  {
   "cell_type": "markdown",
   "metadata": {},
   "source": [
    "# look at my no-manners-no-intro-looking-assssssuming that you'll follow\n",
    "\n",
    "right along with what I'm doing here. you probably won't. that's okay. also I don't capitilize much anymore. it's a whole keystroke that I'm not willing to even stretch for, and explaining that plus capitilizing my \"I\"'s is so much extra work I barely even want to talk about it but there ya go. I did it. \n",
    "\n",
    "# FOR THE CUSSIN' CONTEXT\n",
    "\n",
    "welcome back. been awhile. where have you been? I've been right here. literally the entire time.\n",
    "\n",
    "![the entire time](beenherentiretime.gif)\n",
    "\n",
    "what's all that mumbo jumbo above?\n",
    "\n",
    "well. that's data my friends. data on data on data. \n",
    "\n",
    "## lemme explain myself\n",
    "\n",
    "I heard the best way to learn something is by doing it. Someone smart from the mirror told me that.\n",
    "\n",
    "So I looked up datasets I could mess around with. I looked all over, up and down, left and right, something that seemed interesting enough to play with and\n",
    "\n",
    "# BOOM\n",
    "\n",
    "I found one. This one is data collected on people crossing a bridge in Vancouver, mainly to measure bicycle and pedestrian traffic. To see if they ran into each other or whatever. It's all on the site. Go click on that link. Don't make me explain it.\n",
    "\n",
    "Anyway it's got my three favorite things.\n",
    "\n",
    "    1)Bikes.\n",
    "    2)Vancouver.\n",
    "    3)And bridges.\n",
    "\n",
    "I made that last one up, there's only one bridge in this situation. but I do love me a cleverly designed bridge used by walkers, cyclists, and cars that don't use fossil fuels.\n",
    "\n",
    "![vancouver](vancouvrrr.png)\n",
    "\n",
    "Look at that place. \n",
    "\n",
    "# LOOK AT IT WOULD YA? GORGEOUS RIGHT?\n",
    "\n",
    "geez settle down and keep reading.\n",
    "\n",
    "\n",
    "also I don't know which bridge it is up there. that would be interesting to find out.\n",
    "\n",
    "anyways I was finessing around with the data in Excel because Excel is cool and it can be abbreviated as 'XL' and that's cool too plus it's a pretty easy-to-use-ultra-powerful-data-tool. so keep that in mind. \n",
    "\n",
    "# AND THAT'S WHEN I NOTICED SOMETHING\n",
    "\n",
    "I noticed that more people travel Southbound than they do Northbound on the bridge, in every category. And not even by a lot. It's like, a teensy eeensy bit everyday and the totals are even an eeensy bit as well. \n",
    "\n",
    "apparently south is cooler than north in Vancouver.\n",
    "\n",
    "I mean like...do they stay at a friends house? Do they take another way back? Do they swim?\n",
    "\n",
    "(There are days that data wasn't collected, they all could have snuck back on those days too. sneaky peeps)\n",
    "\n",
    "Finding out the real reason why more people end up south of the bridge than the north would probably take longer (and would be victim to a bad game of thrones joke, which I don't watch but do you) and I wanted to do a comprehensive data mine to data visualization that I thought wouldn't take me all night. \n",
    "\n",
    "I could have showed you all of that with the code and the spreadsheet and it would have been like...\n",
    "\n",
    "\n",
    "### _uh yeah...cool numbers dude_\n",
    "\n",
    "so instead I got all graphical and made some sick nasty sweet graphics. because everyone loves beautiful graphics. \n",
    "\n",
    "I actually wrote the graphs in javascript but then realized it might be too hard to copy all that code over, URLs and everything and also I couldn't figure out for the life of me why I couldn't change the color of the second bar on the second and third graphs ...\n",
    "\n",
    "so yeah.. whatever I guess. And the pictures work out.\n",
    "\n",
    "# WHAT YOU JUST JUST GOT INTO BY READING THIS\n",
    "\n",
    "I decided to do another challenge. One of my own making. The #100DaysOfBullroar doesn't really cut it. I will shameless use the popular ones to get people to read my posts though.\n",
    "\n",
    "if you want to see where I got the data from the link is at the top and the original file is in this repo on github. so be a sleauth and go find it.\n",
    "\n",
    "alright. go away now."
   ]
  }
 ],
 "metadata": {
  "kernelspec": {
   "display_name": "Python 3",
   "language": "python",
   "name": "python3"
  },
  "language_info": {
   "codemirror_mode": {
    "name": "ipython",
    "version": 3
   },
   "file_extension": ".py",
   "mimetype": "text/x-python",
   "name": "python",
   "nbconvert_exporter": "python",
   "pygments_lexer": "ipython3",
   "version": "3.7.3"
  }
 },
 "nbformat": 4,
 "nbformat_minor": 2
}
