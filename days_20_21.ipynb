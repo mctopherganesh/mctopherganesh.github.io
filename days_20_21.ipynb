{
 "cells": [
  {
   "cell_type": "code",
   "execution_count": 4,
   "metadata": {},
   "outputs": [
    {
     "name": "stdout",
     "output_type": "stream",
     "text": [
      "<Response [200]>\n"
     ]
    }
   ],
   "source": [
    "import requests\n",
    "from bs4 import BeautifulSoup\n",
    "\n",
    "res = requests.get(\"https://mctopherganesh.com\")\n",
    "print(res)"
   ]
  },
  {
   "cell_type": "code",
   "execution_count": 10,
   "metadata": {},
   "outputs": [],
   "source": [
    "soup = BeautifulSoup(res.text)"
   ]
  },
  {
   "cell_type": "code",
   "execution_count": 13,
   "metadata": {},
   "outputs": [
    {
     "data": {
      "text/plain": [
       "'Welcome Muggles'"
      ]
     },
     "execution_count": 13,
     "metadata": {},
     "output_type": "execute_result"
    }
   ],
   "source": [
    "soup.title.text"
   ]
  },
  {
   "cell_type": "code",
   "execution_count": 34,
   "metadata": {},
   "outputs": [],
   "source": [
    "a_tags = soup.find_all('a')"
   ]
  },
  {
   "cell_type": "code",
   "execution_count": 30,
   "metadata": {},
   "outputs": [
    {
     "name": "stdout",
     "output_type": "stream",
     "text": [
      "index.html\n",
      "index.html\n",
      "blog.html\n",
      "about.html\n",
      "https://github.com/Midnight-Lizard/Midnight-Lizard\n",
      "#collapseExample\n",
      "#collapseExample\n"
     ]
    }
   ],
   "source": [
    "for tag in a_tags:\n",
    "    print(tag.get('href'))"
   ]
  },
  {
   "cell_type": "code",
   "execution_count": 43,
   "metadata": {},
   "outputs": [],
   "source": [
    "def gather_homepage_links():\n",
    "    \n",
    "    import requests\n",
    "    from bs4 import BeautifulSoup\n",
    "    \n",
    "    link_names = []\n",
    "    \n",
    "    response = requests.get(\"https://mctopherganesh.com\")\n",
    "    soup = BeautifulSoup(response.text)\n",
    "    for tag in soup.find_all('a'):\n",
    "        link_names.append(tag.get('href'))\n",
    "        \n",
    "    return link_names"
   ]
  },
  {
   "cell_type": "code",
   "execution_count": 44,
   "metadata": {},
   "outputs": [
    {
     "name": "stdout",
     "output_type": "stream",
     "text": [
      "['index.html', 'index.html', 'blog.html', 'about.html', 'https://github.com/Midnight-Lizard/Midnight-Lizard', '#collapseExample', '#collapseExample']\n"
     ]
    }
   ],
   "source": [
    "print(gather_homepage_links())"
   ]
  },
  {
   "cell_type": "code",
   "execution_count": 46,
   "metadata": {},
   "outputs": [
    {
     "data": {
      "text/plain": [
       "'blog.html'"
      ]
     },
     "execution_count": 46,
     "metadata": {},
     "output_type": "execute_result"
    }
   ],
   "source": [
    "homepage_links = gather_homepage_links() \n",
    "homepage_links[2]"
   ]
  },
  {
   "cell_type": "code",
   "execution_count": 47,
   "metadata": {},
   "outputs": [
    {
     "name": "stdout",
     "output_type": "stream",
     "text": [
      "<Response [200]>\n"
     ]
    }
   ],
   "source": [
    "blog_suffix = homepage_links[2]\n",
    "blog_page = requests.get(\"https://mctopherganesh.com/\" + blog_suffix)\n",
    "print(blog_page)"
   ]
  },
  {
   "cell_type": "code",
   "execution_count": 49,
   "metadata": {},
   "outputs": [],
   "source": [
    "blog_html = BeautifulSoup(blog_page.text)\n",
    "blog_links = []\n",
    "for tag in blog_html.find_all('a'):\n",
    "    blog_links.append(tag.get('href'))"
   ]
  },
  {
   "cell_type": "code",
   "execution_count": 50,
   "metadata": {},
   "outputs": [
    {
     "data": {
      "text/plain": [
       "['index.html',\n",
       " 'index.html',\n",
       " 'blog.html',\n",
       " 'about.html',\n",
       " '/blog/day19.html',\n",
       " '/blog/day18.html',\n",
       " '/blog/day17.html',\n",
       " '/blog/day16.html',\n",
       " '/blog/day013_014_and_015.html',\n",
       " '/blog/day012_day013_maybe.html',\n",
       " '/blog/day011.html',\n",
       " '/blog/day010.html',\n",
       " '/blog/why_does_posting_take_so_long.html',\n",
       " '/blog/day08.html',\n",
       " '/blog/day07.html',\n",
       " '/blog/day06.html',\n",
       " '/blog/day05.html',\n",
       " '/blog/day04.html',\n",
       " '/blog/day03ish.html',\n",
       " '/blog/day02.html',\n",
       " '/blog/day1again.html',\n",
       " '/blog/day15.html',\n",
       " '/blog/day13_and_14.html',\n",
       " '/blog/day12.html',\n",
       " '/blog/day11.html',\n",
       " '/blog/day10.html',\n",
       " '/blog/day7_and_8_and_9.html',\n",
       " '/blog/day6.html',\n",
       " '/blog/day5',\n",
       " '/blog/day4.html',\n",
       " '/blog/day3.html',\n",
       " '/blog/day2.html',\n",
       " '/blog/day1.html']"
      ]
     },
     "execution_count": 50,
     "metadata": {},
     "output_type": "execute_result"
    }
   ],
   "source": [
    "blog_links"
   ]
  },
  {
   "cell_type": "markdown",
   "metadata": {},
   "source": [
    "# welcome to day 20 and 21 stalkers.\n",
    "\n",
    "what's all of that up there?\n",
    "\n",
    "believe or not, I wrote all of that code because I was frustrated. I was frustrated that I can't just decide how to build a fancy shmancy website and build it as I go.\n",
    "\n",
    "Websites must be _planned_ out. This probably seems obvious to you but to me, coding has always been this thing I can just do and when I run into obstacles I kind of figure out my way over, under, or around them. Maybe through them, it's all about perspective you see.\n",
    "\n",
    "However with websites, you have to know what your website is going to look like **BEFORE** you actually code it up.\n",
    "\n",
    "That's craziness. I coded all of the above because I felt like coding without direction and my favorite kind of coding is scraping. \n",
    "\n",
    "### What's the real problem?\n",
    "\n",
    "The real problem is I have spent years on learning _how to code_ in Python, especially web scraping (it's my pb and jam) but I have NOT spent years developing websites which means I have done everything I can to avoid planning when it comes to programming. \n",
    "\n",
    "I like the doing. Not the planning and doing.\n",
    "\n",
    "Not a huge problem though. Pretty funny realization to have. It's not truly something I _didn't_ know to be honest, but it was one of those things I knew and didn't want fully manifest what it meant, you know?\n",
    "\n",
    "Oh, you know what I'm talking about. \n",
    "\n",
    "Yesterday I spent a good amount of time working on Dataquest. Learning some pretty neat things on there. Messing with the pandas library. Good stuff.\n",
    "\n",
    "Today I sat down to mess with my website and had the above realization that I'm not at a place where I can simply hack together a website. The code above? It's not a perfect webscrape by any means but I have enough experience writing python scripts and building them out into fully fledged...scripts/programs/code..stuff. \n",
    "\n",
    "It is a little inspiring to know that I have a _preference_ coding with Python to making websites because I can slap together a python program decently enough and I cannot slap together a website. I do remember when I couldn't do any slapping of any kind. Solely knowing that is kind of cool right? "
   ]
  }
 ],
 "metadata": {
  "kernelspec": {
   "display_name": "Python 3",
   "language": "python",
   "name": "python3"
  },
  "language_info": {
   "codemirror_mode": {
    "name": "ipython",
    "version": 3
   },
   "file_extension": ".py",
   "mimetype": "text/x-python",
   "name": "python",
   "nbconvert_exporter": "python",
   "pygments_lexer": "ipython3",
   "version": "3.7.3"
  }
 },
 "nbformat": 4,
 "nbformat_minor": 2
}
